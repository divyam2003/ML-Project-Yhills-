{
  "cells": [
    {
      "cell_type": "code",
      "execution_count": 219,
      "metadata": {
        "id": "WeEKudzSAI7K"
      },
      "outputs": [],
      "source": [
        "import numpy as np\n",
        "import pandas as pd\n",
        "import seaborn as sns\n",
        "import matplotlib.pyplot as plt\n",
        "from sklearn.preprocessing import StandardScaler\n",
        "from sklearn.model_selection import train_test_split\n",
        "from sklearn.linear_model import LogisticRegression\n",
        "from sklearn.metrics import accuracy_score\n",
        "from sklearn.neighbors import KNeighborsClassifier\n",
        "from sklearn.naive_bayes import GaussianNB\n",
        "from sklearn.svm import SVC\n",
        "from sklearn import tree\n",
        "from sklearn.ensemble import BaggingClassifier\n",
        "from sklearn.ensemble import AdaBoostClassifier\n",
        "from sklearn.ensemble import GradientBoostingClassifier\n",
        "from sklearn.ensemble import RandomForestClassifier"
      ]
    },
    {
      "cell_type": "code",
      "execution_count": 220,
      "metadata": {
        "id": "ua__gIKlAaus"
      },
      "outputs": [],
      "source": [
        "df=pd.read_csv(\"https://raw.githubusercontent.com/Premalatha-success/Datasets/main/h1n1_vaccine_prediction.csv\")"
      ]
    },
    {
      "cell_type": "code",
      "execution_count": 221,
      "metadata": {
        "id": "KLpbNh0BA0OK",
        "colab": {
          "base_uri": "https://localhost:8080/",
          "height": 455
        },
        "outputId": "e61e25d3-df50-4c76-d2e1-486f6abfff25"
      },
      "outputs": [
        {
          "output_type": "execute_result",
          "data": {
            "text/plain": [
              "   unique_id  h1n1_worry  h1n1_awareness  antiviral_medication  \\\n",
              "0          0         1.0             0.0                   0.0   \n",
              "1          1         3.0             2.0                   0.0   \n",
              "2          2         1.0             1.0                   0.0   \n",
              "3          3         1.0             1.0                   0.0   \n",
              "4          4         2.0             1.0                   0.0   \n",
              "\n",
              "   contact_avoidance  bought_face_mask  wash_hands_frequently  \\\n",
              "0                0.0               0.0                    0.0   \n",
              "1                1.0               0.0                    1.0   \n",
              "2                1.0               0.0                    0.0   \n",
              "3                1.0               0.0                    1.0   \n",
              "4                1.0               0.0                    1.0   \n",
              "\n",
              "   avoid_large_gatherings  reduced_outside_home_cont  avoid_touch_face  ...  \\\n",
              "0                     0.0                        1.0               1.0  ...   \n",
              "1                     0.0                        1.0               1.0  ...   \n",
              "2                     0.0                        0.0               0.0  ...   \n",
              "3                     1.0                        0.0               0.0  ...   \n",
              "4                     1.0                        0.0               1.0  ...   \n",
              "\n",
              "    race     sex               income_level  marital_status  housing_status  \\\n",
              "0  White  Female              Below Poverty     Not Married             Own   \n",
              "1  White    Male              Below Poverty     Not Married            Rent   \n",
              "2  White    Male  <= $75,000, Above Poverty     Not Married             Own   \n",
              "3  White  Female              Below Poverty     Not Married            Rent   \n",
              "4  White  Female  <= $75,000, Above Poverty         Married             Own   \n",
              "\n",
              "           employment                census_msa  no_of_adults  no_of_children  \\\n",
              "0  Not in Labor Force                   Non-MSA           0.0             0.0   \n",
              "1            Employed  MSA, Not Principle  City           0.0             0.0   \n",
              "2            Employed  MSA, Not Principle  City           2.0             0.0   \n",
              "3  Not in Labor Force       MSA, Principle City           0.0             0.0   \n",
              "4            Employed  MSA, Not Principle  City           1.0             0.0   \n",
              "\n",
              "   h1n1_vaccine  \n",
              "0             0  \n",
              "1             0  \n",
              "2             0  \n",
              "3             0  \n",
              "4             0  \n",
              "\n",
              "[5 rows x 34 columns]"
            ],
            "text/html": [
              "\n",
              "  <div id=\"df-ab9c8e8b-655c-44ba-9e22-c842947fa52e\">\n",
              "    <div class=\"colab-df-container\">\n",
              "      <div>\n",
              "<style scoped>\n",
              "    .dataframe tbody tr th:only-of-type {\n",
              "        vertical-align: middle;\n",
              "    }\n",
              "\n",
              "    .dataframe tbody tr th {\n",
              "        vertical-align: top;\n",
              "    }\n",
              "\n",
              "    .dataframe thead th {\n",
              "        text-align: right;\n",
              "    }\n",
              "</style>\n",
              "<table border=\"1\" class=\"dataframe\">\n",
              "  <thead>\n",
              "    <tr style=\"text-align: right;\">\n",
              "      <th></th>\n",
              "      <th>unique_id</th>\n",
              "      <th>h1n1_worry</th>\n",
              "      <th>h1n1_awareness</th>\n",
              "      <th>antiviral_medication</th>\n",
              "      <th>contact_avoidance</th>\n",
              "      <th>bought_face_mask</th>\n",
              "      <th>wash_hands_frequently</th>\n",
              "      <th>avoid_large_gatherings</th>\n",
              "      <th>reduced_outside_home_cont</th>\n",
              "      <th>avoid_touch_face</th>\n",
              "      <th>...</th>\n",
              "      <th>race</th>\n",
              "      <th>sex</th>\n",
              "      <th>income_level</th>\n",
              "      <th>marital_status</th>\n",
              "      <th>housing_status</th>\n",
              "      <th>employment</th>\n",
              "      <th>census_msa</th>\n",
              "      <th>no_of_adults</th>\n",
              "      <th>no_of_children</th>\n",
              "      <th>h1n1_vaccine</th>\n",
              "    </tr>\n",
              "  </thead>\n",
              "  <tbody>\n",
              "    <tr>\n",
              "      <th>0</th>\n",
              "      <td>0</td>\n",
              "      <td>1.0</td>\n",
              "      <td>0.0</td>\n",
              "      <td>0.0</td>\n",
              "      <td>0.0</td>\n",
              "      <td>0.0</td>\n",
              "      <td>0.0</td>\n",
              "      <td>0.0</td>\n",
              "      <td>1.0</td>\n",
              "      <td>1.0</td>\n",
              "      <td>...</td>\n",
              "      <td>White</td>\n",
              "      <td>Female</td>\n",
              "      <td>Below Poverty</td>\n",
              "      <td>Not Married</td>\n",
              "      <td>Own</td>\n",
              "      <td>Not in Labor Force</td>\n",
              "      <td>Non-MSA</td>\n",
              "      <td>0.0</td>\n",
              "      <td>0.0</td>\n",
              "      <td>0</td>\n",
              "    </tr>\n",
              "    <tr>\n",
              "      <th>1</th>\n",
              "      <td>1</td>\n",
              "      <td>3.0</td>\n",
              "      <td>2.0</td>\n",
              "      <td>0.0</td>\n",
              "      <td>1.0</td>\n",
              "      <td>0.0</td>\n",
              "      <td>1.0</td>\n",
              "      <td>0.0</td>\n",
              "      <td>1.0</td>\n",
              "      <td>1.0</td>\n",
              "      <td>...</td>\n",
              "      <td>White</td>\n",
              "      <td>Male</td>\n",
              "      <td>Below Poverty</td>\n",
              "      <td>Not Married</td>\n",
              "      <td>Rent</td>\n",
              "      <td>Employed</td>\n",
              "      <td>MSA, Not Principle  City</td>\n",
              "      <td>0.0</td>\n",
              "      <td>0.0</td>\n",
              "      <td>0</td>\n",
              "    </tr>\n",
              "    <tr>\n",
              "      <th>2</th>\n",
              "      <td>2</td>\n",
              "      <td>1.0</td>\n",
              "      <td>1.0</td>\n",
              "      <td>0.0</td>\n",
              "      <td>1.0</td>\n",
              "      <td>0.0</td>\n",
              "      <td>0.0</td>\n",
              "      <td>0.0</td>\n",
              "      <td>0.0</td>\n",
              "      <td>0.0</td>\n",
              "      <td>...</td>\n",
              "      <td>White</td>\n",
              "      <td>Male</td>\n",
              "      <td>&lt;= $75,000, Above Poverty</td>\n",
              "      <td>Not Married</td>\n",
              "      <td>Own</td>\n",
              "      <td>Employed</td>\n",
              "      <td>MSA, Not Principle  City</td>\n",
              "      <td>2.0</td>\n",
              "      <td>0.0</td>\n",
              "      <td>0</td>\n",
              "    </tr>\n",
              "    <tr>\n",
              "      <th>3</th>\n",
              "      <td>3</td>\n",
              "      <td>1.0</td>\n",
              "      <td>1.0</td>\n",
              "      <td>0.0</td>\n",
              "      <td>1.0</td>\n",
              "      <td>0.0</td>\n",
              "      <td>1.0</td>\n",
              "      <td>1.0</td>\n",
              "      <td>0.0</td>\n",
              "      <td>0.0</td>\n",
              "      <td>...</td>\n",
              "      <td>White</td>\n",
              "      <td>Female</td>\n",
              "      <td>Below Poverty</td>\n",
              "      <td>Not Married</td>\n",
              "      <td>Rent</td>\n",
              "      <td>Not in Labor Force</td>\n",
              "      <td>MSA, Principle City</td>\n",
              "      <td>0.0</td>\n",
              "      <td>0.0</td>\n",
              "      <td>0</td>\n",
              "    </tr>\n",
              "    <tr>\n",
              "      <th>4</th>\n",
              "      <td>4</td>\n",
              "      <td>2.0</td>\n",
              "      <td>1.0</td>\n",
              "      <td>0.0</td>\n",
              "      <td>1.0</td>\n",
              "      <td>0.0</td>\n",
              "      <td>1.0</td>\n",
              "      <td>1.0</td>\n",
              "      <td>0.0</td>\n",
              "      <td>1.0</td>\n",
              "      <td>...</td>\n",
              "      <td>White</td>\n",
              "      <td>Female</td>\n",
              "      <td>&lt;= $75,000, Above Poverty</td>\n",
              "      <td>Married</td>\n",
              "      <td>Own</td>\n",
              "      <td>Employed</td>\n",
              "      <td>MSA, Not Principle  City</td>\n",
              "      <td>1.0</td>\n",
              "      <td>0.0</td>\n",
              "      <td>0</td>\n",
              "    </tr>\n",
              "  </tbody>\n",
              "</table>\n",
              "<p>5 rows × 34 columns</p>\n",
              "</div>\n",
              "      <button class=\"colab-df-convert\" onclick=\"convertToInteractive('df-ab9c8e8b-655c-44ba-9e22-c842947fa52e')\"\n",
              "              title=\"Convert this dataframe to an interactive table.\"\n",
              "              style=\"display:none;\">\n",
              "        \n",
              "  <svg xmlns=\"http://www.w3.org/2000/svg\" height=\"24px\"viewBox=\"0 0 24 24\"\n",
              "       width=\"24px\">\n",
              "    <path d=\"M0 0h24v24H0V0z\" fill=\"none\"/>\n",
              "    <path d=\"M18.56 5.44l.94 2.06.94-2.06 2.06-.94-2.06-.94-.94-2.06-.94 2.06-2.06.94zm-11 1L8.5 8.5l.94-2.06 2.06-.94-2.06-.94L8.5 2.5l-.94 2.06-2.06.94zm10 10l.94 2.06.94-2.06 2.06-.94-2.06-.94-.94-2.06-.94 2.06-2.06.94z\"/><path d=\"M17.41 7.96l-1.37-1.37c-.4-.4-.92-.59-1.43-.59-.52 0-1.04.2-1.43.59L10.3 9.45l-7.72 7.72c-.78.78-.78 2.05 0 2.83L4 21.41c.39.39.9.59 1.41.59.51 0 1.02-.2 1.41-.59l7.78-7.78 2.81-2.81c.8-.78.8-2.07 0-2.86zM5.41 20L4 18.59l7.72-7.72 1.47 1.35L5.41 20z\"/>\n",
              "  </svg>\n",
              "      </button>\n",
              "      \n",
              "  <style>\n",
              "    .colab-df-container {\n",
              "      display:flex;\n",
              "      flex-wrap:wrap;\n",
              "      gap: 12px;\n",
              "    }\n",
              "\n",
              "    .colab-df-convert {\n",
              "      background-color: #E8F0FE;\n",
              "      border: none;\n",
              "      border-radius: 50%;\n",
              "      cursor: pointer;\n",
              "      display: none;\n",
              "      fill: #1967D2;\n",
              "      height: 32px;\n",
              "      padding: 0 0 0 0;\n",
              "      width: 32px;\n",
              "    }\n",
              "\n",
              "    .colab-df-convert:hover {\n",
              "      background-color: #E2EBFA;\n",
              "      box-shadow: 0px 1px 2px rgba(60, 64, 67, 0.3), 0px 1px 3px 1px rgba(60, 64, 67, 0.15);\n",
              "      fill: #174EA6;\n",
              "    }\n",
              "\n",
              "    [theme=dark] .colab-df-convert {\n",
              "      background-color: #3B4455;\n",
              "      fill: #D2E3FC;\n",
              "    }\n",
              "\n",
              "    [theme=dark] .colab-df-convert:hover {\n",
              "      background-color: #434B5C;\n",
              "      box-shadow: 0px 1px 3px 1px rgba(0, 0, 0, 0.15);\n",
              "      filter: drop-shadow(0px 1px 2px rgba(0, 0, 0, 0.3));\n",
              "      fill: #FFFFFF;\n",
              "    }\n",
              "  </style>\n",
              "\n",
              "      <script>\n",
              "        const buttonEl =\n",
              "          document.querySelector('#df-ab9c8e8b-655c-44ba-9e22-c842947fa52e button.colab-df-convert');\n",
              "        buttonEl.style.display =\n",
              "          google.colab.kernel.accessAllowed ? 'block' : 'none';\n",
              "\n",
              "        async function convertToInteractive(key) {\n",
              "          const element = document.querySelector('#df-ab9c8e8b-655c-44ba-9e22-c842947fa52e');\n",
              "          const dataTable =\n",
              "            await google.colab.kernel.invokeFunction('convertToInteractive',\n",
              "                                                     [key], {});\n",
              "          if (!dataTable) return;\n",
              "\n",
              "          const docLinkHtml = 'Like what you see? Visit the ' +\n",
              "            '<a target=\"_blank\" href=https://colab.research.google.com/notebooks/data_table.ipynb>data table notebook</a>'\n",
              "            + ' to learn more about interactive tables.';\n",
              "          element.innerHTML = '';\n",
              "          dataTable['output_type'] = 'display_data';\n",
              "          await google.colab.output.renderOutput(dataTable, element);\n",
              "          const docLink = document.createElement('div');\n",
              "          docLink.innerHTML = docLinkHtml;\n",
              "          element.appendChild(docLink);\n",
              "        }\n",
              "      </script>\n",
              "    </div>\n",
              "  </div>\n",
              "  "
            ]
          },
          "metadata": {},
          "execution_count": 221
        }
      ],
      "source": [
        "df.head(5)"
      ]
    },
    {
      "cell_type": "code",
      "execution_count": 222,
      "metadata": {
        "id": "FPBuh9xIA20-",
        "colab": {
          "base_uri": "https://localhost:8080/"
        },
        "outputId": "92e741a5-14f1-46b8-8c6d-5a050b9c8b85"
      },
      "outputs": [
        {
          "output_type": "execute_result",
          "data": {
            "text/plain": [
              "(26707, 34)"
            ]
          },
          "metadata": {},
          "execution_count": 222
        }
      ],
      "source": [
        "df.shape"
      ]
    },
    {
      "cell_type": "code",
      "execution_count": 223,
      "metadata": {
        "id": "Kj8DC4mWA4Zv",
        "colab": {
          "base_uri": "https://localhost:8080/",
          "height": 393
        },
        "outputId": "8999f0ce-6049-482d-a3dc-99d4ec6a9615"
      },
      "outputs": [
        {
          "output_type": "execute_result",
          "data": {
            "text/plain": [
              "          unique_id    h1n1_worry  h1n1_awareness  antiviral_medication  \\\n",
              "count  26707.000000  26615.000000    26591.000000          26636.000000   \n",
              "mean   13353.000000      1.618486        1.262532              0.048844   \n",
              "std     7709.791156      0.910311        0.618149              0.215545   \n",
              "min        0.000000      0.000000        0.000000              0.000000   \n",
              "25%     6676.500000      1.000000        1.000000              0.000000   \n",
              "50%    13353.000000      2.000000        1.000000              0.000000   \n",
              "75%    20029.500000      2.000000        2.000000              0.000000   \n",
              "max    26706.000000      3.000000        2.000000              1.000000   \n",
              "\n",
              "       contact_avoidance  bought_face_mask  wash_hands_frequently  \\\n",
              "count       26499.000000      26688.000000           26665.000000   \n",
              "mean            0.725612          0.068982               0.825614   \n",
              "std             0.446214          0.253429               0.379448   \n",
              "min             0.000000          0.000000               0.000000   \n",
              "25%             0.000000          0.000000               1.000000   \n",
              "50%             1.000000          0.000000               1.000000   \n",
              "75%             1.000000          0.000000               1.000000   \n",
              "max             1.000000          1.000000               1.000000   \n",
              "\n",
              "       avoid_large_gatherings  reduced_outside_home_cont  avoid_touch_face  \\\n",
              "count             26620.00000               26625.000000      26579.000000   \n",
              "mean                  0.35864                   0.337315          0.677264   \n",
              "std                   0.47961                   0.472802          0.467531   \n",
              "min                   0.00000                   0.000000          0.000000   \n",
              "25%                   0.00000                   0.000000          0.000000   \n",
              "50%                   0.00000                   0.000000          1.000000   \n",
              "75%                   1.00000                   1.000000          1.000000   \n",
              "max                   1.00000                   1.000000          1.000000   \n",
              "\n",
              "       ...  has_health_insur  is_h1n1_vacc_effective  is_h1n1_risky  \\\n",
              "count  ...       14433.00000            26316.000000   26319.000000   \n",
              "mean   ...           0.87972                3.850623       2.342566   \n",
              "std    ...           0.32530                1.007436       1.285539   \n",
              "min    ...           0.00000                1.000000       1.000000   \n",
              "25%    ...           1.00000                3.000000       1.000000   \n",
              "50%    ...           1.00000                4.000000       2.000000   \n",
              "75%    ...           1.00000                5.000000       4.000000   \n",
              "max    ...           1.00000                5.000000       5.000000   \n",
              "\n",
              "       sick_from_h1n1_vacc  is_seas_vacc_effective  is_seas_risky  \\\n",
              "count         26312.000000            26245.000000   26193.000000   \n",
              "mean              2.357670                4.025986       2.719162   \n",
              "std               1.362766                1.086565       1.385055   \n",
              "min               1.000000                1.000000       1.000000   \n",
              "25%               1.000000                4.000000       2.000000   \n",
              "50%               2.000000                4.000000       2.000000   \n",
              "75%               4.000000                5.000000       4.000000   \n",
              "max               5.000000                5.000000       5.000000   \n",
              "\n",
              "       sick_from_seas_vacc  no_of_adults  no_of_children  h1n1_vaccine  \n",
              "count         26170.000000  26458.000000    26458.000000  26707.000000  \n",
              "mean              2.118112      0.886499        0.534583      0.212454  \n",
              "std               1.332950      0.753422        0.928173      0.409052  \n",
              "min               1.000000      0.000000        0.000000      0.000000  \n",
              "25%               1.000000      0.000000        0.000000      0.000000  \n",
              "50%               2.000000      1.000000        0.000000      0.000000  \n",
              "75%               4.000000      1.000000        1.000000      0.000000  \n",
              "max               5.000000      3.000000        3.000000      1.000000  \n",
              "\n",
              "[8 rows x 25 columns]"
            ],
            "text/html": [
              "\n",
              "  <div id=\"df-bd7e03e8-7f51-4d52-a544-4b7a221d3637\">\n",
              "    <div class=\"colab-df-container\">\n",
              "      <div>\n",
              "<style scoped>\n",
              "    .dataframe tbody tr th:only-of-type {\n",
              "        vertical-align: middle;\n",
              "    }\n",
              "\n",
              "    .dataframe tbody tr th {\n",
              "        vertical-align: top;\n",
              "    }\n",
              "\n",
              "    .dataframe thead th {\n",
              "        text-align: right;\n",
              "    }\n",
              "</style>\n",
              "<table border=\"1\" class=\"dataframe\">\n",
              "  <thead>\n",
              "    <tr style=\"text-align: right;\">\n",
              "      <th></th>\n",
              "      <th>unique_id</th>\n",
              "      <th>h1n1_worry</th>\n",
              "      <th>h1n1_awareness</th>\n",
              "      <th>antiviral_medication</th>\n",
              "      <th>contact_avoidance</th>\n",
              "      <th>bought_face_mask</th>\n",
              "      <th>wash_hands_frequently</th>\n",
              "      <th>avoid_large_gatherings</th>\n",
              "      <th>reduced_outside_home_cont</th>\n",
              "      <th>avoid_touch_face</th>\n",
              "      <th>...</th>\n",
              "      <th>has_health_insur</th>\n",
              "      <th>is_h1n1_vacc_effective</th>\n",
              "      <th>is_h1n1_risky</th>\n",
              "      <th>sick_from_h1n1_vacc</th>\n",
              "      <th>is_seas_vacc_effective</th>\n",
              "      <th>is_seas_risky</th>\n",
              "      <th>sick_from_seas_vacc</th>\n",
              "      <th>no_of_adults</th>\n",
              "      <th>no_of_children</th>\n",
              "      <th>h1n1_vaccine</th>\n",
              "    </tr>\n",
              "  </thead>\n",
              "  <tbody>\n",
              "    <tr>\n",
              "      <th>count</th>\n",
              "      <td>26707.000000</td>\n",
              "      <td>26615.000000</td>\n",
              "      <td>26591.000000</td>\n",
              "      <td>26636.000000</td>\n",
              "      <td>26499.000000</td>\n",
              "      <td>26688.000000</td>\n",
              "      <td>26665.000000</td>\n",
              "      <td>26620.00000</td>\n",
              "      <td>26625.000000</td>\n",
              "      <td>26579.000000</td>\n",
              "      <td>...</td>\n",
              "      <td>14433.00000</td>\n",
              "      <td>26316.000000</td>\n",
              "      <td>26319.000000</td>\n",
              "      <td>26312.000000</td>\n",
              "      <td>26245.000000</td>\n",
              "      <td>26193.000000</td>\n",
              "      <td>26170.000000</td>\n",
              "      <td>26458.000000</td>\n",
              "      <td>26458.000000</td>\n",
              "      <td>26707.000000</td>\n",
              "    </tr>\n",
              "    <tr>\n",
              "      <th>mean</th>\n",
              "      <td>13353.000000</td>\n",
              "      <td>1.618486</td>\n",
              "      <td>1.262532</td>\n",
              "      <td>0.048844</td>\n",
              "      <td>0.725612</td>\n",
              "      <td>0.068982</td>\n",
              "      <td>0.825614</td>\n",
              "      <td>0.35864</td>\n",
              "      <td>0.337315</td>\n",
              "      <td>0.677264</td>\n",
              "      <td>...</td>\n",
              "      <td>0.87972</td>\n",
              "      <td>3.850623</td>\n",
              "      <td>2.342566</td>\n",
              "      <td>2.357670</td>\n",
              "      <td>4.025986</td>\n",
              "      <td>2.719162</td>\n",
              "      <td>2.118112</td>\n",
              "      <td>0.886499</td>\n",
              "      <td>0.534583</td>\n",
              "      <td>0.212454</td>\n",
              "    </tr>\n",
              "    <tr>\n",
              "      <th>std</th>\n",
              "      <td>7709.791156</td>\n",
              "      <td>0.910311</td>\n",
              "      <td>0.618149</td>\n",
              "      <td>0.215545</td>\n",
              "      <td>0.446214</td>\n",
              "      <td>0.253429</td>\n",
              "      <td>0.379448</td>\n",
              "      <td>0.47961</td>\n",
              "      <td>0.472802</td>\n",
              "      <td>0.467531</td>\n",
              "      <td>...</td>\n",
              "      <td>0.32530</td>\n",
              "      <td>1.007436</td>\n",
              "      <td>1.285539</td>\n",
              "      <td>1.362766</td>\n",
              "      <td>1.086565</td>\n",
              "      <td>1.385055</td>\n",
              "      <td>1.332950</td>\n",
              "      <td>0.753422</td>\n",
              "      <td>0.928173</td>\n",
              "      <td>0.409052</td>\n",
              "    </tr>\n",
              "    <tr>\n",
              "      <th>min</th>\n",
              "      <td>0.000000</td>\n",
              "      <td>0.000000</td>\n",
              "      <td>0.000000</td>\n",
              "      <td>0.000000</td>\n",
              "      <td>0.000000</td>\n",
              "      <td>0.000000</td>\n",
              "      <td>0.000000</td>\n",
              "      <td>0.00000</td>\n",
              "      <td>0.000000</td>\n",
              "      <td>0.000000</td>\n",
              "      <td>...</td>\n",
              "      <td>0.00000</td>\n",
              "      <td>1.000000</td>\n",
              "      <td>1.000000</td>\n",
              "      <td>1.000000</td>\n",
              "      <td>1.000000</td>\n",
              "      <td>1.000000</td>\n",
              "      <td>1.000000</td>\n",
              "      <td>0.000000</td>\n",
              "      <td>0.000000</td>\n",
              "      <td>0.000000</td>\n",
              "    </tr>\n",
              "    <tr>\n",
              "      <th>25%</th>\n",
              "      <td>6676.500000</td>\n",
              "      <td>1.000000</td>\n",
              "      <td>1.000000</td>\n",
              "      <td>0.000000</td>\n",
              "      <td>0.000000</td>\n",
              "      <td>0.000000</td>\n",
              "      <td>1.000000</td>\n",
              "      <td>0.00000</td>\n",
              "      <td>0.000000</td>\n",
              "      <td>0.000000</td>\n",
              "      <td>...</td>\n",
              "      <td>1.00000</td>\n",
              "      <td>3.000000</td>\n",
              "      <td>1.000000</td>\n",
              "      <td>1.000000</td>\n",
              "      <td>4.000000</td>\n",
              "      <td>2.000000</td>\n",
              "      <td>1.000000</td>\n",
              "      <td>0.000000</td>\n",
              "      <td>0.000000</td>\n",
              "      <td>0.000000</td>\n",
              "    </tr>\n",
              "    <tr>\n",
              "      <th>50%</th>\n",
              "      <td>13353.000000</td>\n",
              "      <td>2.000000</td>\n",
              "      <td>1.000000</td>\n",
              "      <td>0.000000</td>\n",
              "      <td>1.000000</td>\n",
              "      <td>0.000000</td>\n",
              "      <td>1.000000</td>\n",
              "      <td>0.00000</td>\n",
              "      <td>0.000000</td>\n",
              "      <td>1.000000</td>\n",
              "      <td>...</td>\n",
              "      <td>1.00000</td>\n",
              "      <td>4.000000</td>\n",
              "      <td>2.000000</td>\n",
              "      <td>2.000000</td>\n",
              "      <td>4.000000</td>\n",
              "      <td>2.000000</td>\n",
              "      <td>2.000000</td>\n",
              "      <td>1.000000</td>\n",
              "      <td>0.000000</td>\n",
              "      <td>0.000000</td>\n",
              "    </tr>\n",
              "    <tr>\n",
              "      <th>75%</th>\n",
              "      <td>20029.500000</td>\n",
              "      <td>2.000000</td>\n",
              "      <td>2.000000</td>\n",
              "      <td>0.000000</td>\n",
              "      <td>1.000000</td>\n",
              "      <td>0.000000</td>\n",
              "      <td>1.000000</td>\n",
              "      <td>1.00000</td>\n",
              "      <td>1.000000</td>\n",
              "      <td>1.000000</td>\n",
              "      <td>...</td>\n",
              "      <td>1.00000</td>\n",
              "      <td>5.000000</td>\n",
              "      <td>4.000000</td>\n",
              "      <td>4.000000</td>\n",
              "      <td>5.000000</td>\n",
              "      <td>4.000000</td>\n",
              "      <td>4.000000</td>\n",
              "      <td>1.000000</td>\n",
              "      <td>1.000000</td>\n",
              "      <td>0.000000</td>\n",
              "    </tr>\n",
              "    <tr>\n",
              "      <th>max</th>\n",
              "      <td>26706.000000</td>\n",
              "      <td>3.000000</td>\n",
              "      <td>2.000000</td>\n",
              "      <td>1.000000</td>\n",
              "      <td>1.000000</td>\n",
              "      <td>1.000000</td>\n",
              "      <td>1.000000</td>\n",
              "      <td>1.00000</td>\n",
              "      <td>1.000000</td>\n",
              "      <td>1.000000</td>\n",
              "      <td>...</td>\n",
              "      <td>1.00000</td>\n",
              "      <td>5.000000</td>\n",
              "      <td>5.000000</td>\n",
              "      <td>5.000000</td>\n",
              "      <td>5.000000</td>\n",
              "      <td>5.000000</td>\n",
              "      <td>5.000000</td>\n",
              "      <td>3.000000</td>\n",
              "      <td>3.000000</td>\n",
              "      <td>1.000000</td>\n",
              "    </tr>\n",
              "  </tbody>\n",
              "</table>\n",
              "<p>8 rows × 25 columns</p>\n",
              "</div>\n",
              "      <button class=\"colab-df-convert\" onclick=\"convertToInteractive('df-bd7e03e8-7f51-4d52-a544-4b7a221d3637')\"\n",
              "              title=\"Convert this dataframe to an interactive table.\"\n",
              "              style=\"display:none;\">\n",
              "        \n",
              "  <svg xmlns=\"http://www.w3.org/2000/svg\" height=\"24px\"viewBox=\"0 0 24 24\"\n",
              "       width=\"24px\">\n",
              "    <path d=\"M0 0h24v24H0V0z\" fill=\"none\"/>\n",
              "    <path d=\"M18.56 5.44l.94 2.06.94-2.06 2.06-.94-2.06-.94-.94-2.06-.94 2.06-2.06.94zm-11 1L8.5 8.5l.94-2.06 2.06-.94-2.06-.94L8.5 2.5l-.94 2.06-2.06.94zm10 10l.94 2.06.94-2.06 2.06-.94-2.06-.94-.94-2.06-.94 2.06-2.06.94z\"/><path d=\"M17.41 7.96l-1.37-1.37c-.4-.4-.92-.59-1.43-.59-.52 0-1.04.2-1.43.59L10.3 9.45l-7.72 7.72c-.78.78-.78 2.05 0 2.83L4 21.41c.39.39.9.59 1.41.59.51 0 1.02-.2 1.41-.59l7.78-7.78 2.81-2.81c.8-.78.8-2.07 0-2.86zM5.41 20L4 18.59l7.72-7.72 1.47 1.35L5.41 20z\"/>\n",
              "  </svg>\n",
              "      </button>\n",
              "      \n",
              "  <style>\n",
              "    .colab-df-container {\n",
              "      display:flex;\n",
              "      flex-wrap:wrap;\n",
              "      gap: 12px;\n",
              "    }\n",
              "\n",
              "    .colab-df-convert {\n",
              "      background-color: #E8F0FE;\n",
              "      border: none;\n",
              "      border-radius: 50%;\n",
              "      cursor: pointer;\n",
              "      display: none;\n",
              "      fill: #1967D2;\n",
              "      height: 32px;\n",
              "      padding: 0 0 0 0;\n",
              "      width: 32px;\n",
              "    }\n",
              "\n",
              "    .colab-df-convert:hover {\n",
              "      background-color: #E2EBFA;\n",
              "      box-shadow: 0px 1px 2px rgba(60, 64, 67, 0.3), 0px 1px 3px 1px rgba(60, 64, 67, 0.15);\n",
              "      fill: #174EA6;\n",
              "    }\n",
              "\n",
              "    [theme=dark] .colab-df-convert {\n",
              "      background-color: #3B4455;\n",
              "      fill: #D2E3FC;\n",
              "    }\n",
              "\n",
              "    [theme=dark] .colab-df-convert:hover {\n",
              "      background-color: #434B5C;\n",
              "      box-shadow: 0px 1px 3px 1px rgba(0, 0, 0, 0.15);\n",
              "      filter: drop-shadow(0px 1px 2px rgba(0, 0, 0, 0.3));\n",
              "      fill: #FFFFFF;\n",
              "    }\n",
              "  </style>\n",
              "\n",
              "      <script>\n",
              "        const buttonEl =\n",
              "          document.querySelector('#df-bd7e03e8-7f51-4d52-a544-4b7a221d3637 button.colab-df-convert');\n",
              "        buttonEl.style.display =\n",
              "          google.colab.kernel.accessAllowed ? 'block' : 'none';\n",
              "\n",
              "        async function convertToInteractive(key) {\n",
              "          const element = document.querySelector('#df-bd7e03e8-7f51-4d52-a544-4b7a221d3637');\n",
              "          const dataTable =\n",
              "            await google.colab.kernel.invokeFunction('convertToInteractive',\n",
              "                                                     [key], {});\n",
              "          if (!dataTable) return;\n",
              "\n",
              "          const docLinkHtml = 'Like what you see? Visit the ' +\n",
              "            '<a target=\"_blank\" href=https://colab.research.google.com/notebooks/data_table.ipynb>data table notebook</a>'\n",
              "            + ' to learn more about interactive tables.';\n",
              "          element.innerHTML = '';\n",
              "          dataTable['output_type'] = 'display_data';\n",
              "          await google.colab.output.renderOutput(dataTable, element);\n",
              "          const docLink = document.createElement('div');\n",
              "          docLink.innerHTML = docLinkHtml;\n",
              "          element.appendChild(docLink);\n",
              "        }\n",
              "      </script>\n",
              "    </div>\n",
              "  </div>\n",
              "  "
            ]
          },
          "metadata": {},
          "execution_count": 223
        }
      ],
      "source": [
        "df.describe()"
      ]
    },
    {
      "cell_type": "code",
      "execution_count": 224,
      "metadata": {
        "id": "TwYzhgReBE2-",
        "colab": {
          "base_uri": "https://localhost:8080/"
        },
        "outputId": "e61c7fe3-9134-47a3-ae15-98ea22629b2e"
      },
      "outputs": [
        {
          "output_type": "execute_result",
          "data": {
            "text/plain": [
              "unique_id                        0\n",
              "h1n1_worry                      92\n",
              "h1n1_awareness                 116\n",
              "antiviral_medication            71\n",
              "contact_avoidance              208\n",
              "bought_face_mask                19\n",
              "wash_hands_frequently           42\n",
              "avoid_large_gatherings          87\n",
              "reduced_outside_home_cont       82\n",
              "avoid_touch_face               128\n",
              "dr_recc_h1n1_vacc             2160\n",
              "dr_recc_seasonal_vacc         2160\n",
              "chronic_medic_condition        971\n",
              "cont_child_undr_6_mnths        820\n",
              "is_health_worker               804\n",
              "has_health_insur             12274\n",
              "is_h1n1_vacc_effective         391\n",
              "is_h1n1_risky                  388\n",
              "sick_from_h1n1_vacc            395\n",
              "is_seas_vacc_effective         462\n",
              "is_seas_risky                  514\n",
              "sick_from_seas_vacc            537\n",
              "age_bracket                      0\n",
              "qualification                 1407\n",
              "race                             0\n",
              "sex                              0\n",
              "income_level                  4423\n",
              "marital_status                1408\n",
              "housing_status                2042\n",
              "employment                    1463\n",
              "census_msa                       0\n",
              "no_of_adults                   249\n",
              "no_of_children                 249\n",
              "h1n1_vaccine                     0\n",
              "dtype: int64"
            ]
          },
          "metadata": {},
          "execution_count": 224
        }
      ],
      "source": [
        "df.isnull().sum()"
      ]
    },
    {
      "cell_type": "code",
      "execution_count": 225,
      "metadata": {
        "id": "VsLMEsSMBJu-",
        "colab": {
          "base_uri": "https://localhost:8080/"
        },
        "outputId": "7a3cd2c5-c386-4e1c-c691-d13fbd2e6950"
      },
      "outputs": [
        {
          "output_type": "stream",
          "name": "stdout",
          "text": [
            "<class 'pandas.core.frame.DataFrame'>\n",
            "RangeIndex: 26707 entries, 0 to 26706\n",
            "Data columns (total 34 columns):\n",
            " #   Column                     Non-Null Count  Dtype  \n",
            "---  ------                     --------------  -----  \n",
            " 0   unique_id                  26707 non-null  int64  \n",
            " 1   h1n1_worry                 26615 non-null  float64\n",
            " 2   h1n1_awareness             26591 non-null  float64\n",
            " 3   antiviral_medication       26636 non-null  float64\n",
            " 4   contact_avoidance          26499 non-null  float64\n",
            " 5   bought_face_mask           26688 non-null  float64\n",
            " 6   wash_hands_frequently      26665 non-null  float64\n",
            " 7   avoid_large_gatherings     26620 non-null  float64\n",
            " 8   reduced_outside_home_cont  26625 non-null  float64\n",
            " 9   avoid_touch_face           26579 non-null  float64\n",
            " 10  dr_recc_h1n1_vacc          24547 non-null  float64\n",
            " 11  dr_recc_seasonal_vacc      24547 non-null  float64\n",
            " 12  chronic_medic_condition    25736 non-null  float64\n",
            " 13  cont_child_undr_6_mnths    25887 non-null  float64\n",
            " 14  is_health_worker           25903 non-null  float64\n",
            " 15  has_health_insur           14433 non-null  float64\n",
            " 16  is_h1n1_vacc_effective     26316 non-null  float64\n",
            " 17  is_h1n1_risky              26319 non-null  float64\n",
            " 18  sick_from_h1n1_vacc        26312 non-null  float64\n",
            " 19  is_seas_vacc_effective     26245 non-null  float64\n",
            " 20  is_seas_risky              26193 non-null  float64\n",
            " 21  sick_from_seas_vacc        26170 non-null  float64\n",
            " 22  age_bracket                26707 non-null  object \n",
            " 23  qualification              25300 non-null  object \n",
            " 24  race                       26707 non-null  object \n",
            " 25  sex                        26707 non-null  object \n",
            " 26  income_level               22284 non-null  object \n",
            " 27  marital_status             25299 non-null  object \n",
            " 28  housing_status             24665 non-null  object \n",
            " 29  employment                 25244 non-null  object \n",
            " 30  census_msa                 26707 non-null  object \n",
            " 31  no_of_adults               26458 non-null  float64\n",
            " 32  no_of_children             26458 non-null  float64\n",
            " 33  h1n1_vaccine               26707 non-null  int64  \n",
            "dtypes: float64(23), int64(2), object(9)\n",
            "memory usage: 6.9+ MB\n"
          ]
        }
      ],
      "source": [
        "df.info()"
      ]
    },
    {
      "cell_type": "code",
      "execution_count": 226,
      "metadata": {
        "id": "eLZe1HMDBPJV",
        "colab": {
          "base_uri": "https://localhost:8080/",
          "height": 926
        },
        "outputId": "25233eed-6aac-4eea-cbda-bbdf0627afc2"
      },
      "outputs": [
        {
          "output_type": "execute_result",
          "data": {
            "text/plain": [
              "                           unique_id  h1n1_worry  h1n1_awareness  \\\n",
              "unique_id                   1.000000    0.017839        0.003425   \n",
              "h1n1_worry                  0.017839    1.000000        0.062522   \n",
              "h1n1_awareness              0.003425    0.062522        1.000000   \n",
              "antiviral_medication       -0.008475    0.090301       -0.010836   \n",
              "contact_avoidance           0.009638    0.233713        0.088839   \n",
              "bought_face_mask           -0.006644    0.156032        0.030050   \n",
              "wash_hands_frequently       0.011105    0.293565        0.089785   \n",
              "avoid_large_gatherings      0.004539    0.255031       -0.048898   \n",
              "reduced_outside_home_cont   0.009011    0.246424       -0.068219   \n",
              "avoid_touch_face            0.007575    0.248016        0.086162   \n",
              "dr_recc_h1n1_vacc          -0.002072    0.150206        0.093829   \n",
              "dr_recc_seasonal_vacc       0.001500    0.135567        0.071920   \n",
              "chronic_medic_condition     0.005797    0.095162       -0.022602   \n",
              "cont_child_undr_6_mnths    -0.004839    0.049574        0.021598   \n",
              "is_health_worker           -0.003149    0.033562        0.170252   \n",
              "has_health_insur           -0.012603   -0.003655        0.119408   \n",
              "is_h1n1_vacc_effective      0.005912    0.239604        0.121009   \n",
              "is_h1n1_risky               0.000958    0.377033        0.073086   \n",
              "sick_from_h1n1_vacc        -0.002270    0.360070       -0.019501   \n",
              "is_seas_vacc_effective      0.005935    0.235136        0.086103   \n",
              "is_seas_risky              -0.005291    0.333990        0.076825   \n",
              "sick_from_seas_vacc         0.009563    0.225731       -0.062483   \n",
              "no_of_adults                0.000187   -0.015658        0.024874   \n",
              "no_of_children             -0.003726    0.050525        0.050583   \n",
              "h1n1_vaccine               -0.003280    0.121929        0.117951   \n",
              "\n",
              "                           antiviral_medication  contact_avoidance  \\\n",
              "unique_id                             -0.008475           0.009638   \n",
              "h1n1_worry                             0.090301           0.233713   \n",
              "h1n1_awareness                        -0.010836           0.088839   \n",
              "antiviral_medication                   1.000000           0.049247   \n",
              "contact_avoidance                      0.049247           1.000000   \n",
              "bought_face_mask                       0.146261           0.064946   \n",
              "wash_hands_frequently                  0.064119           0.338130   \n",
              "avoid_large_gatherings                 0.106287           0.227675   \n",
              "reduced_outside_home_cont              0.127679           0.220348   \n",
              "avoid_touch_face                       0.070868           0.335335   \n",
              "dr_recc_h1n1_vacc                      0.051235           0.068145   \n",
              "dr_recc_seasonal_vacc                  0.030909           0.074088   \n",
              "chronic_medic_condition                0.008465           0.039435   \n",
              "cont_child_undr_6_mnths                0.028788          -0.000414   \n",
              "is_health_worker                       0.009465           0.001180   \n",
              "has_health_insur                      -0.063988           0.032662   \n",
              "is_h1n1_vacc_effective                 0.030211           0.112300   \n",
              "is_h1n1_risky                          0.105163           0.117851   \n",
              "sick_from_h1n1_vacc                    0.079091           0.131405   \n",
              "is_seas_vacc_effective                 0.015003           0.119554   \n",
              "is_seas_risky                          0.085315           0.129504   \n",
              "sick_from_seas_vacc                    0.084305           0.082942   \n",
              "no_of_adults                           0.044900           0.019122   \n",
              "no_of_children                         0.084822           0.040328   \n",
              "h1n1_vaccine                           0.040608           0.047690   \n",
              "\n",
              "                           bought_face_mask  wash_hands_frequently  \\\n",
              "unique_id                         -0.006644               0.011105   \n",
              "h1n1_worry                         0.156032               0.293565   \n",
              "h1n1_awareness                     0.030050               0.089785   \n",
              "antiviral_medication               0.146261               0.064119   \n",
              "contact_avoidance                  0.064946               0.338130   \n",
              "bought_face_mask                   1.000000               0.083363   \n",
              "wash_hands_frequently              0.083363               1.000000   \n",
              "avoid_large_gatherings             0.180907               0.195364   \n",
              "reduced_outside_home_cont          0.163382               0.192619   \n",
              "avoid_touch_face                   0.104335               0.365064   \n",
              "dr_recc_h1n1_vacc                  0.084282               0.088729   \n",
              "dr_recc_seasonal_vacc              0.069481               0.102044   \n",
              "chronic_medic_condition            0.068113               0.030260   \n",
              "cont_child_undr_6_mnths            0.039726               0.036188   \n",
              "is_health_worker                   0.069992               0.053761   \n",
              "has_health_insur                  -0.040257               0.031919   \n",
              "is_h1n1_vacc_effective             0.037651               0.136987   \n",
              "is_h1n1_risky                      0.131165               0.168711   \n",
              "sick_from_h1n1_vacc                0.107129               0.150024   \n",
              "is_seas_vacc_effective             0.041556               0.138517   \n",
              "is_seas_risky                      0.110161               0.172464   \n",
              "sick_from_seas_vacc                0.090009               0.088029   \n",
              "no_of_adults                       0.013991               0.009669   \n",
              "no_of_children                     0.005826               0.047764   \n",
              "h1n1_vaccine                       0.070498               0.074712   \n",
              "\n",
              "                           avoid_large_gatherings  reduced_outside_home_cont  \\\n",
              "unique_id                                0.004539                   0.009011   \n",
              "h1n1_worry                               0.255031                   0.246424   \n",
              "h1n1_awareness                          -0.048898                  -0.068219   \n",
              "antiviral_medication                     0.106287                   0.127679   \n",
              "contact_avoidance                        0.227675                   0.220348   \n",
              "bought_face_mask                         0.180907                   0.163382   \n",
              "wash_hands_frequently                    0.195364                   0.192619   \n",
              "avoid_large_gatherings                   1.000000                   0.584085   \n",
              "reduced_outside_home_cont                0.584085                   1.000000   \n",
              "avoid_touch_face                         0.253683                   0.267719   \n",
              "dr_recc_h1n1_vacc                        0.082242                   0.070346   \n",
              "dr_recc_seasonal_vacc                    0.093557                   0.085622   \n",
              "chronic_medic_condition                  0.104721                   0.098858   \n",
              "cont_child_undr_6_mnths                  0.021168                   0.018195   \n",
              "is_health_worker                        -0.032319                  -0.034619   \n",
              "has_health_insur                        -0.059000                  -0.061381   \n",
              "is_h1n1_vacc_effective                   0.052299                   0.050748   \n",
              "is_h1n1_risky                            0.126463                   0.125549   \n",
              "sick_from_h1n1_vacc                      0.185924                   0.174834   \n",
              "is_seas_vacc_effective                   0.078491                   0.067469   \n",
              "is_seas_risky                            0.132865                   0.120237   \n",
              "sick_from_seas_vacc                      0.135446                   0.138133   \n",
              "no_of_adults                            -0.031938                  -0.027527   \n",
              "no_of_children                          -0.009449                  -0.009558   \n",
              "h1n1_vaccine                             0.017822                   0.021768   \n",
              "\n",
              "                           avoid_touch_face  ...  has_health_insur  \\\n",
              "unique_id                          0.007575  ...         -0.012603   \n",
              "h1n1_worry                         0.248016  ...         -0.003655   \n",
              "h1n1_awareness                     0.086162  ...          0.119408   \n",
              "antiviral_medication               0.070868  ...         -0.063988   \n",
              "contact_avoidance                  0.335335  ...          0.032662   \n",
              "bought_face_mask                   0.104335  ...         -0.040257   \n",
              "wash_hands_frequently              0.365064  ...          0.031919   \n",
              "avoid_large_gatherings             0.253683  ...         -0.059000   \n",
              "reduced_outside_home_cont          0.267719  ...         -0.061381   \n",
              "avoid_touch_face                   1.000000  ...          0.011024   \n",
              "dr_recc_h1n1_vacc                  0.088221  ...          0.067157   \n",
              "dr_recc_seasonal_vacc              0.100808  ...          0.117195   \n",
              "chronic_medic_condition            0.028876  ...          0.066088   \n",
              "cont_child_undr_6_mnths            0.026640  ...         -0.026836   \n",
              "is_health_worker                   0.067648  ...          0.046680   \n",
              "has_health_insur                   0.011024  ...          1.000000   \n",
              "is_h1n1_vacc_effective             0.104126  ...          0.058675   \n",
              "is_h1n1_risky                      0.146080  ...          0.005766   \n",
              "sick_from_h1n1_vacc                0.131772  ...         -0.033314   \n",
              "is_seas_vacc_effective             0.105798  ...          0.091247   \n",
              "is_seas_risky                      0.143735  ...          0.050232   \n",
              "sick_from_seas_vacc                0.090097  ...         -0.065886   \n",
              "no_of_adults                      -0.000553  ...         -0.078697   \n",
              "no_of_children                     0.023606  ...         -0.069402   \n",
              "h1n1_vaccine                       0.071648  ...          0.121170   \n",
              "\n",
              "                           is_h1n1_vacc_effective  is_h1n1_risky  \\\n",
              "unique_id                                0.005912       0.000958   \n",
              "h1n1_worry                               0.239604       0.377033   \n",
              "h1n1_awareness                           0.121009       0.073086   \n",
              "antiviral_medication                     0.030211       0.105163   \n",
              "contact_avoidance                        0.112300       0.117851   \n",
              "bought_face_mask                         0.037651       0.131165   \n",
              "wash_hands_frequently                    0.136987       0.168711   \n",
              "avoid_large_gatherings                   0.052299       0.126463   \n",
              "reduced_outside_home_cont                0.050748       0.125549   \n",
              "avoid_touch_face                         0.104126       0.146080   \n",
              "dr_recc_h1n1_vacc                        0.152305       0.262826   \n",
              "dr_recc_seasonal_vacc                    0.118614       0.168443   \n",
              "chronic_medic_condition                  0.044145       0.121657   \n",
              "cont_child_undr_6_mnths                  0.007094       0.086516   \n",
              "is_health_worker                         0.053581       0.123869   \n",
              "has_health_insur                         0.058675       0.005766   \n",
              "is_h1n1_vacc_effective                   1.000000       0.261304   \n",
              "is_h1n1_risky                            0.261304       1.000000   \n",
              "sick_from_h1n1_vacc                      0.062372       0.335062   \n",
              "is_seas_vacc_effective                   0.472467       0.224469   \n",
              "is_seas_risky                            0.258173       0.564208   \n",
              "sick_from_seas_vacc                      0.012491       0.198601   \n",
              "no_of_adults                             0.010970       0.030181   \n",
              "no_of_children                          -0.015242       0.095325   \n",
              "h1n1_vaccine                             0.269347       0.323265   \n",
              "\n",
              "                           sick_from_h1n1_vacc  is_seas_vacc_effective  \\\n",
              "unique_id                            -0.002270                0.005935   \n",
              "h1n1_worry                            0.360070                0.235136   \n",
              "h1n1_awareness                       -0.019501                0.086103   \n",
              "antiviral_medication                  0.079091                0.015003   \n",
              "contact_avoidance                     0.131405                0.119554   \n",
              "bought_face_mask                      0.107129                0.041556   \n",
              "wash_hands_frequently                 0.150024                0.138517   \n",
              "avoid_large_gatherings                0.185924                0.078491   \n",
              "reduced_outside_home_cont             0.174834                0.067469   \n",
              "avoid_touch_face                      0.131772                0.105798   \n",
              "dr_recc_h1n1_vacc                     0.113111                0.107512   \n",
              "dr_recc_seasonal_vacc                 0.067178                0.180902   \n",
              "chronic_medic_condition               0.081943                0.091737   \n",
              "cont_child_undr_6_mnths               0.037212                0.003653   \n",
              "is_health_worker                      0.009015                0.030395   \n",
              "has_health_insur                     -0.033314                0.091247   \n",
              "is_h1n1_vacc_effective                0.062372                0.472467   \n",
              "is_h1n1_risky                         0.335062                0.224469   \n",
              "sick_from_h1n1_vacc                   1.000000                0.078097   \n",
              "is_seas_vacc_effective                0.078097                1.000000   \n",
              "is_seas_risky                         0.267013                0.344800   \n",
              "sick_from_seas_vacc                   0.491546               -0.017340   \n",
              "no_of_adults                          0.014769               -0.022579   \n",
              "no_of_children                        0.071164               -0.076503   \n",
              "h1n1_vaccine                          0.075091                0.179272   \n",
              "\n",
              "                           is_seas_risky  sick_from_seas_vacc  no_of_adults  \\\n",
              "unique_id                      -0.005291             0.009563      0.000187   \n",
              "h1n1_worry                      0.333990             0.225731     -0.015658   \n",
              "h1n1_awareness                  0.076825            -0.062483      0.024874   \n",
              "antiviral_medication            0.085315             0.084305      0.044900   \n",
              "contact_avoidance               0.129504             0.082942      0.019122   \n",
              "bought_face_mask                0.110161             0.090009      0.013991   \n",
              "wash_hands_frequently           0.172464             0.088029      0.009669   \n",
              "avoid_large_gatherings          0.132865             0.135446     -0.031938   \n",
              "reduced_outside_home_cont       0.120237             0.138133     -0.027527   \n",
              "avoid_touch_face                0.143735             0.090097     -0.000553   \n",
              "dr_recc_h1n1_vacc               0.202320             0.057128      0.004112   \n",
              "dr_recc_seasonal_vacc           0.240087             0.025356     -0.040769   \n",
              "chronic_medic_condition         0.162061             0.052587     -0.071346   \n",
              "cont_child_undr_6_mnths         0.050267             0.037582      0.044828   \n",
              "is_health_worker                0.089142            -0.017893      0.013380   \n",
              "has_health_insur                0.050232            -0.065886     -0.078697   \n",
              "is_h1n1_vacc_effective          0.258173             0.012491      0.010970   \n",
              "is_h1n1_risky                   0.564208             0.198601      0.030181   \n",
              "sick_from_h1n1_vacc             0.267013             0.491546      0.014769   \n",
              "is_seas_vacc_effective          0.344800            -0.017340     -0.022579   \n",
              "is_seas_risky                   1.000000             0.200379      0.006111   \n",
              "sick_from_seas_vacc             0.200379             1.000000      0.022925   \n",
              "no_of_adults                    0.006111             0.022925      1.000000   \n",
              "no_of_children                  0.025898             0.057286      0.189571   \n",
              "h1n1_vaccine                    0.258571             0.008360      0.007545   \n",
              "\n",
              "                           no_of_children  h1n1_vaccine  \n",
              "unique_id                       -0.003726     -0.003280  \n",
              "h1n1_worry                       0.050525      0.121929  \n",
              "h1n1_awareness                   0.050583      0.117951  \n",
              "antiviral_medication             0.084822      0.040608  \n",
              "contact_avoidance                0.040328      0.047690  \n",
              "bought_face_mask                 0.005826      0.070498  \n",
              "wash_hands_frequently            0.047764      0.074712  \n",
              "avoid_large_gatherings          -0.009449      0.017822  \n",
              "reduced_outside_home_cont       -0.009558      0.021768  \n",
              "avoid_touch_face                 0.023606      0.071648  \n",
              "dr_recc_h1n1_vacc                0.029040      0.393890  \n",
              "dr_recc_seasonal_vacc           -0.048380      0.209864  \n",
              "chronic_medic_condition         -0.108237      0.095207  \n",
              "cont_child_undr_6_mnths          0.099562      0.066962  \n",
              "is_health_worker                 0.037698      0.169768  \n",
              "has_health_insur                -0.069402      0.121170  \n",
              "is_h1n1_vacc_effective          -0.015242      0.269347  \n",
              "is_h1n1_risky                    0.095325      0.323265  \n",
              "sick_from_h1n1_vacc              0.071164      0.075091  \n",
              "is_seas_vacc_effective          -0.076503      0.179272  \n",
              "is_seas_risky                    0.025898      0.258571  \n",
              "sick_from_seas_vacc              0.057286      0.008360  \n",
              "no_of_adults                     0.189571      0.007545  \n",
              "no_of_children                   1.000000     -0.003320  \n",
              "h1n1_vaccine                    -0.003320      1.000000  \n",
              "\n",
              "[25 rows x 25 columns]"
            ],
            "text/html": [
              "\n",
              "  <div id=\"df-a8e90c06-ab0f-49bc-b278-1d6ff6b52bd1\">\n",
              "    <div class=\"colab-df-container\">\n",
              "      <div>\n",
              "<style scoped>\n",
              "    .dataframe tbody tr th:only-of-type {\n",
              "        vertical-align: middle;\n",
              "    }\n",
              "\n",
              "    .dataframe tbody tr th {\n",
              "        vertical-align: top;\n",
              "    }\n",
              "\n",
              "    .dataframe thead th {\n",
              "        text-align: right;\n",
              "    }\n",
              "</style>\n",
              "<table border=\"1\" class=\"dataframe\">\n",
              "  <thead>\n",
              "    <tr style=\"text-align: right;\">\n",
              "      <th></th>\n",
              "      <th>unique_id</th>\n",
              "      <th>h1n1_worry</th>\n",
              "      <th>h1n1_awareness</th>\n",
              "      <th>antiviral_medication</th>\n",
              "      <th>contact_avoidance</th>\n",
              "      <th>bought_face_mask</th>\n",
              "      <th>wash_hands_frequently</th>\n",
              "      <th>avoid_large_gatherings</th>\n",
              "      <th>reduced_outside_home_cont</th>\n",
              "      <th>avoid_touch_face</th>\n",
              "      <th>...</th>\n",
              "      <th>has_health_insur</th>\n",
              "      <th>is_h1n1_vacc_effective</th>\n",
              "      <th>is_h1n1_risky</th>\n",
              "      <th>sick_from_h1n1_vacc</th>\n",
              "      <th>is_seas_vacc_effective</th>\n",
              "      <th>is_seas_risky</th>\n",
              "      <th>sick_from_seas_vacc</th>\n",
              "      <th>no_of_adults</th>\n",
              "      <th>no_of_children</th>\n",
              "      <th>h1n1_vaccine</th>\n",
              "    </tr>\n",
              "  </thead>\n",
              "  <tbody>\n",
              "    <tr>\n",
              "      <th>unique_id</th>\n",
              "      <td>1.000000</td>\n",
              "      <td>0.017839</td>\n",
              "      <td>0.003425</td>\n",
              "      <td>-0.008475</td>\n",
              "      <td>0.009638</td>\n",
              "      <td>-0.006644</td>\n",
              "      <td>0.011105</td>\n",
              "      <td>0.004539</td>\n",
              "      <td>0.009011</td>\n",
              "      <td>0.007575</td>\n",
              "      <td>...</td>\n",
              "      <td>-0.012603</td>\n",
              "      <td>0.005912</td>\n",
              "      <td>0.000958</td>\n",
              "      <td>-0.002270</td>\n",
              "      <td>0.005935</td>\n",
              "      <td>-0.005291</td>\n",
              "      <td>0.009563</td>\n",
              "      <td>0.000187</td>\n",
              "      <td>-0.003726</td>\n",
              "      <td>-0.003280</td>\n",
              "    </tr>\n",
              "    <tr>\n",
              "      <th>h1n1_worry</th>\n",
              "      <td>0.017839</td>\n",
              "      <td>1.000000</td>\n",
              "      <td>0.062522</td>\n",
              "      <td>0.090301</td>\n",
              "      <td>0.233713</td>\n",
              "      <td>0.156032</td>\n",
              "      <td>0.293565</td>\n",
              "      <td>0.255031</td>\n",
              "      <td>0.246424</td>\n",
              "      <td>0.248016</td>\n",
              "      <td>...</td>\n",
              "      <td>-0.003655</td>\n",
              "      <td>0.239604</td>\n",
              "      <td>0.377033</td>\n",
              "      <td>0.360070</td>\n",
              "      <td>0.235136</td>\n",
              "      <td>0.333990</td>\n",
              "      <td>0.225731</td>\n",
              "      <td>-0.015658</td>\n",
              "      <td>0.050525</td>\n",
              "      <td>0.121929</td>\n",
              "    </tr>\n",
              "    <tr>\n",
              "      <th>h1n1_awareness</th>\n",
              "      <td>0.003425</td>\n",
              "      <td>0.062522</td>\n",
              "      <td>1.000000</td>\n",
              "      <td>-0.010836</td>\n",
              "      <td>0.088839</td>\n",
              "      <td>0.030050</td>\n",
              "      <td>0.089785</td>\n",
              "      <td>-0.048898</td>\n",
              "      <td>-0.068219</td>\n",
              "      <td>0.086162</td>\n",
              "      <td>...</td>\n",
              "      <td>0.119408</td>\n",
              "      <td>0.121009</td>\n",
              "      <td>0.073086</td>\n",
              "      <td>-0.019501</td>\n",
              "      <td>0.086103</td>\n",
              "      <td>0.076825</td>\n",
              "      <td>-0.062483</td>\n",
              "      <td>0.024874</td>\n",
              "      <td>0.050583</td>\n",
              "      <td>0.117951</td>\n",
              "    </tr>\n",
              "    <tr>\n",
              "      <th>antiviral_medication</th>\n",
              "      <td>-0.008475</td>\n",
              "      <td>0.090301</td>\n",
              "      <td>-0.010836</td>\n",
              "      <td>1.000000</td>\n",
              "      <td>0.049247</td>\n",
              "      <td>0.146261</td>\n",
              "      <td>0.064119</td>\n",
              "      <td>0.106287</td>\n",
              "      <td>0.127679</td>\n",
              "      <td>0.070868</td>\n",
              "      <td>...</td>\n",
              "      <td>-0.063988</td>\n",
              "      <td>0.030211</td>\n",
              "      <td>0.105163</td>\n",
              "      <td>0.079091</td>\n",
              "      <td>0.015003</td>\n",
              "      <td>0.085315</td>\n",
              "      <td>0.084305</td>\n",
              "      <td>0.044900</td>\n",
              "      <td>0.084822</td>\n",
              "      <td>0.040608</td>\n",
              "    </tr>\n",
              "    <tr>\n",
              "      <th>contact_avoidance</th>\n",
              "      <td>0.009638</td>\n",
              "      <td>0.233713</td>\n",
              "      <td>0.088839</td>\n",
              "      <td>0.049247</td>\n",
              "      <td>1.000000</td>\n",
              "      <td>0.064946</td>\n",
              "      <td>0.338130</td>\n",
              "      <td>0.227675</td>\n",
              "      <td>0.220348</td>\n",
              "      <td>0.335335</td>\n",
              "      <td>...</td>\n",
              "      <td>0.032662</td>\n",
              "      <td>0.112300</td>\n",
              "      <td>0.117851</td>\n",
              "      <td>0.131405</td>\n",
              "      <td>0.119554</td>\n",
              "      <td>0.129504</td>\n",
              "      <td>0.082942</td>\n",
              "      <td>0.019122</td>\n",
              "      <td>0.040328</td>\n",
              "      <td>0.047690</td>\n",
              "    </tr>\n",
              "    <tr>\n",
              "      <th>bought_face_mask</th>\n",
              "      <td>-0.006644</td>\n",
              "      <td>0.156032</td>\n",
              "      <td>0.030050</td>\n",
              "      <td>0.146261</td>\n",
              "      <td>0.064946</td>\n",
              "      <td>1.000000</td>\n",
              "      <td>0.083363</td>\n",
              "      <td>0.180907</td>\n",
              "      <td>0.163382</td>\n",
              "      <td>0.104335</td>\n",
              "      <td>...</td>\n",
              "      <td>-0.040257</td>\n",
              "      <td>0.037651</td>\n",
              "      <td>0.131165</td>\n",
              "      <td>0.107129</td>\n",
              "      <td>0.041556</td>\n",
              "      <td>0.110161</td>\n",
              "      <td>0.090009</td>\n",
              "      <td>0.013991</td>\n",
              "      <td>0.005826</td>\n",
              "      <td>0.070498</td>\n",
              "    </tr>\n",
              "    <tr>\n",
              "      <th>wash_hands_frequently</th>\n",
              "      <td>0.011105</td>\n",
              "      <td>0.293565</td>\n",
              "      <td>0.089785</td>\n",
              "      <td>0.064119</td>\n",
              "      <td>0.338130</td>\n",
              "      <td>0.083363</td>\n",
              "      <td>1.000000</td>\n",
              "      <td>0.195364</td>\n",
              "      <td>0.192619</td>\n",
              "      <td>0.365064</td>\n",
              "      <td>...</td>\n",
              "      <td>0.031919</td>\n",
              "      <td>0.136987</td>\n",
              "      <td>0.168711</td>\n",
              "      <td>0.150024</td>\n",
              "      <td>0.138517</td>\n",
              "      <td>0.172464</td>\n",
              "      <td>0.088029</td>\n",
              "      <td>0.009669</td>\n",
              "      <td>0.047764</td>\n",
              "      <td>0.074712</td>\n",
              "    </tr>\n",
              "    <tr>\n",
              "      <th>avoid_large_gatherings</th>\n",
              "      <td>0.004539</td>\n",
              "      <td>0.255031</td>\n",
              "      <td>-0.048898</td>\n",
              "      <td>0.106287</td>\n",
              "      <td>0.227675</td>\n",
              "      <td>0.180907</td>\n",
              "      <td>0.195364</td>\n",
              "      <td>1.000000</td>\n",
              "      <td>0.584085</td>\n",
              "      <td>0.253683</td>\n",
              "      <td>...</td>\n",
              "      <td>-0.059000</td>\n",
              "      <td>0.052299</td>\n",
              "      <td>0.126463</td>\n",
              "      <td>0.185924</td>\n",
              "      <td>0.078491</td>\n",
              "      <td>0.132865</td>\n",
              "      <td>0.135446</td>\n",
              "      <td>-0.031938</td>\n",
              "      <td>-0.009449</td>\n",
              "      <td>0.017822</td>\n",
              "    </tr>\n",
              "    <tr>\n",
              "      <th>reduced_outside_home_cont</th>\n",
              "      <td>0.009011</td>\n",
              "      <td>0.246424</td>\n",
              "      <td>-0.068219</td>\n",
              "      <td>0.127679</td>\n",
              "      <td>0.220348</td>\n",
              "      <td>0.163382</td>\n",
              "      <td>0.192619</td>\n",
              "      <td>0.584085</td>\n",
              "      <td>1.000000</td>\n",
              "      <td>0.267719</td>\n",
              "      <td>...</td>\n",
              "      <td>-0.061381</td>\n",
              "      <td>0.050748</td>\n",
              "      <td>0.125549</td>\n",
              "      <td>0.174834</td>\n",
              "      <td>0.067469</td>\n",
              "      <td>0.120237</td>\n",
              "      <td>0.138133</td>\n",
              "      <td>-0.027527</td>\n",
              "      <td>-0.009558</td>\n",
              "      <td>0.021768</td>\n",
              "    </tr>\n",
              "    <tr>\n",
              "      <th>avoid_touch_face</th>\n",
              "      <td>0.007575</td>\n",
              "      <td>0.248016</td>\n",
              "      <td>0.086162</td>\n",
              "      <td>0.070868</td>\n",
              "      <td>0.335335</td>\n",
              "      <td>0.104335</td>\n",
              "      <td>0.365064</td>\n",
              "      <td>0.253683</td>\n",
              "      <td>0.267719</td>\n",
              "      <td>1.000000</td>\n",
              "      <td>...</td>\n",
              "      <td>0.011024</td>\n",
              "      <td>0.104126</td>\n",
              "      <td>0.146080</td>\n",
              "      <td>0.131772</td>\n",
              "      <td>0.105798</td>\n",
              "      <td>0.143735</td>\n",
              "      <td>0.090097</td>\n",
              "      <td>-0.000553</td>\n",
              "      <td>0.023606</td>\n",
              "      <td>0.071648</td>\n",
              "    </tr>\n",
              "    <tr>\n",
              "      <th>dr_recc_h1n1_vacc</th>\n",
              "      <td>-0.002072</td>\n",
              "      <td>0.150206</td>\n",
              "      <td>0.093829</td>\n",
              "      <td>0.051235</td>\n",
              "      <td>0.068145</td>\n",
              "      <td>0.084282</td>\n",
              "      <td>0.088729</td>\n",
              "      <td>0.082242</td>\n",
              "      <td>0.070346</td>\n",
              "      <td>0.088221</td>\n",
              "      <td>...</td>\n",
              "      <td>0.067157</td>\n",
              "      <td>0.152305</td>\n",
              "      <td>0.262826</td>\n",
              "      <td>0.113111</td>\n",
              "      <td>0.107512</td>\n",
              "      <td>0.202320</td>\n",
              "      <td>0.057128</td>\n",
              "      <td>0.004112</td>\n",
              "      <td>0.029040</td>\n",
              "      <td>0.393890</td>\n",
              "    </tr>\n",
              "    <tr>\n",
              "      <th>dr_recc_seasonal_vacc</th>\n",
              "      <td>0.001500</td>\n",
              "      <td>0.135567</td>\n",
              "      <td>0.071920</td>\n",
              "      <td>0.030909</td>\n",
              "      <td>0.074088</td>\n",
              "      <td>0.069481</td>\n",
              "      <td>0.102044</td>\n",
              "      <td>0.093557</td>\n",
              "      <td>0.085622</td>\n",
              "      <td>0.100808</td>\n",
              "      <td>...</td>\n",
              "      <td>0.117195</td>\n",
              "      <td>0.118614</td>\n",
              "      <td>0.168443</td>\n",
              "      <td>0.067178</td>\n",
              "      <td>0.180902</td>\n",
              "      <td>0.240087</td>\n",
              "      <td>0.025356</td>\n",
              "      <td>-0.040769</td>\n",
              "      <td>-0.048380</td>\n",
              "      <td>0.209864</td>\n",
              "    </tr>\n",
              "    <tr>\n",
              "      <th>chronic_medic_condition</th>\n",
              "      <td>0.005797</td>\n",
              "      <td>0.095162</td>\n",
              "      <td>-0.022602</td>\n",
              "      <td>0.008465</td>\n",
              "      <td>0.039435</td>\n",
              "      <td>0.068113</td>\n",
              "      <td>0.030260</td>\n",
              "      <td>0.104721</td>\n",
              "      <td>0.098858</td>\n",
              "      <td>0.028876</td>\n",
              "      <td>...</td>\n",
              "      <td>0.066088</td>\n",
              "      <td>0.044145</td>\n",
              "      <td>0.121657</td>\n",
              "      <td>0.081943</td>\n",
              "      <td>0.091737</td>\n",
              "      <td>0.162061</td>\n",
              "      <td>0.052587</td>\n",
              "      <td>-0.071346</td>\n",
              "      <td>-0.108237</td>\n",
              "      <td>0.095207</td>\n",
              "    </tr>\n",
              "    <tr>\n",
              "      <th>cont_child_undr_6_mnths</th>\n",
              "      <td>-0.004839</td>\n",
              "      <td>0.049574</td>\n",
              "      <td>0.021598</td>\n",
              "      <td>0.028788</td>\n",
              "      <td>-0.000414</td>\n",
              "      <td>0.039726</td>\n",
              "      <td>0.036188</td>\n",
              "      <td>0.021168</td>\n",
              "      <td>0.018195</td>\n",
              "      <td>0.026640</td>\n",
              "      <td>...</td>\n",
              "      <td>-0.026836</td>\n",
              "      <td>0.007094</td>\n",
              "      <td>0.086516</td>\n",
              "      <td>0.037212</td>\n",
              "      <td>0.003653</td>\n",
              "      <td>0.050267</td>\n",
              "      <td>0.037582</td>\n",
              "      <td>0.044828</td>\n",
              "      <td>0.099562</td>\n",
              "      <td>0.066962</td>\n",
              "    </tr>\n",
              "    <tr>\n",
              "      <th>is_health_worker</th>\n",
              "      <td>-0.003149</td>\n",
              "      <td>0.033562</td>\n",
              "      <td>0.170252</td>\n",
              "      <td>0.009465</td>\n",
              "      <td>0.001180</td>\n",
              "      <td>0.069992</td>\n",
              "      <td>0.053761</td>\n",
              "      <td>-0.032319</td>\n",
              "      <td>-0.034619</td>\n",
              "      <td>0.067648</td>\n",
              "      <td>...</td>\n",
              "      <td>0.046680</td>\n",
              "      <td>0.053581</td>\n",
              "      <td>0.123869</td>\n",
              "      <td>0.009015</td>\n",
              "      <td>0.030395</td>\n",
              "      <td>0.089142</td>\n",
              "      <td>-0.017893</td>\n",
              "      <td>0.013380</td>\n",
              "      <td>0.037698</td>\n",
              "      <td>0.169768</td>\n",
              "    </tr>\n",
              "    <tr>\n",
              "      <th>has_health_insur</th>\n",
              "      <td>-0.012603</td>\n",
              "      <td>-0.003655</td>\n",
              "      <td>0.119408</td>\n",
              "      <td>-0.063988</td>\n",
              "      <td>0.032662</td>\n",
              "      <td>-0.040257</td>\n",
              "      <td>0.031919</td>\n",
              "      <td>-0.059000</td>\n",
              "      <td>-0.061381</td>\n",
              "      <td>0.011024</td>\n",
              "      <td>...</td>\n",
              "      <td>1.000000</td>\n",
              "      <td>0.058675</td>\n",
              "      <td>0.005766</td>\n",
              "      <td>-0.033314</td>\n",
              "      <td>0.091247</td>\n",
              "      <td>0.050232</td>\n",
              "      <td>-0.065886</td>\n",
              "      <td>-0.078697</td>\n",
              "      <td>-0.069402</td>\n",
              "      <td>0.121170</td>\n",
              "    </tr>\n",
              "    <tr>\n",
              "      <th>is_h1n1_vacc_effective</th>\n",
              "      <td>0.005912</td>\n",
              "      <td>0.239604</td>\n",
              "      <td>0.121009</td>\n",
              "      <td>0.030211</td>\n",
              "      <td>0.112300</td>\n",
              "      <td>0.037651</td>\n",
              "      <td>0.136987</td>\n",
              "      <td>0.052299</td>\n",
              "      <td>0.050748</td>\n",
              "      <td>0.104126</td>\n",
              "      <td>...</td>\n",
              "      <td>0.058675</td>\n",
              "      <td>1.000000</td>\n",
              "      <td>0.261304</td>\n",
              "      <td>0.062372</td>\n",
              "      <td>0.472467</td>\n",
              "      <td>0.258173</td>\n",
              "      <td>0.012491</td>\n",
              "      <td>0.010970</td>\n",
              "      <td>-0.015242</td>\n",
              "      <td>0.269347</td>\n",
              "    </tr>\n",
              "    <tr>\n",
              "      <th>is_h1n1_risky</th>\n",
              "      <td>0.000958</td>\n",
              "      <td>0.377033</td>\n",
              "      <td>0.073086</td>\n",
              "      <td>0.105163</td>\n",
              "      <td>0.117851</td>\n",
              "      <td>0.131165</td>\n",
              "      <td>0.168711</td>\n",
              "      <td>0.126463</td>\n",
              "      <td>0.125549</td>\n",
              "      <td>0.146080</td>\n",
              "      <td>...</td>\n",
              "      <td>0.005766</td>\n",
              "      <td>0.261304</td>\n",
              "      <td>1.000000</td>\n",
              "      <td>0.335062</td>\n",
              "      <td>0.224469</td>\n",
              "      <td>0.564208</td>\n",
              "      <td>0.198601</td>\n",
              "      <td>0.030181</td>\n",
              "      <td>0.095325</td>\n",
              "      <td>0.323265</td>\n",
              "    </tr>\n",
              "    <tr>\n",
              "      <th>sick_from_h1n1_vacc</th>\n",
              "      <td>-0.002270</td>\n",
              "      <td>0.360070</td>\n",
              "      <td>-0.019501</td>\n",
              "      <td>0.079091</td>\n",
              "      <td>0.131405</td>\n",
              "      <td>0.107129</td>\n",
              "      <td>0.150024</td>\n",
              "      <td>0.185924</td>\n",
              "      <td>0.174834</td>\n",
              "      <td>0.131772</td>\n",
              "      <td>...</td>\n",
              "      <td>-0.033314</td>\n",
              "      <td>0.062372</td>\n",
              "      <td>0.335062</td>\n",
              "      <td>1.000000</td>\n",
              "      <td>0.078097</td>\n",
              "      <td>0.267013</td>\n",
              "      <td>0.491546</td>\n",
              "      <td>0.014769</td>\n",
              "      <td>0.071164</td>\n",
              "      <td>0.075091</td>\n",
              "    </tr>\n",
              "    <tr>\n",
              "      <th>is_seas_vacc_effective</th>\n",
              "      <td>0.005935</td>\n",
              "      <td>0.235136</td>\n",
              "      <td>0.086103</td>\n",
              "      <td>0.015003</td>\n",
              "      <td>0.119554</td>\n",
              "      <td>0.041556</td>\n",
              "      <td>0.138517</td>\n",
              "      <td>0.078491</td>\n",
              "      <td>0.067469</td>\n",
              "      <td>0.105798</td>\n",
              "      <td>...</td>\n",
              "      <td>0.091247</td>\n",
              "      <td>0.472467</td>\n",
              "      <td>0.224469</td>\n",
              "      <td>0.078097</td>\n",
              "      <td>1.000000</td>\n",
              "      <td>0.344800</td>\n",
              "      <td>-0.017340</td>\n",
              "      <td>-0.022579</td>\n",
              "      <td>-0.076503</td>\n",
              "      <td>0.179272</td>\n",
              "    </tr>\n",
              "    <tr>\n",
              "      <th>is_seas_risky</th>\n",
              "      <td>-0.005291</td>\n",
              "      <td>0.333990</td>\n",
              "      <td>0.076825</td>\n",
              "      <td>0.085315</td>\n",
              "      <td>0.129504</td>\n",
              "      <td>0.110161</td>\n",
              "      <td>0.172464</td>\n",
              "      <td>0.132865</td>\n",
              "      <td>0.120237</td>\n",
              "      <td>0.143735</td>\n",
              "      <td>...</td>\n",
              "      <td>0.050232</td>\n",
              "      <td>0.258173</td>\n",
              "      <td>0.564208</td>\n",
              "      <td>0.267013</td>\n",
              "      <td>0.344800</td>\n",
              "      <td>1.000000</td>\n",
              "      <td>0.200379</td>\n",
              "      <td>0.006111</td>\n",
              "      <td>0.025898</td>\n",
              "      <td>0.258571</td>\n",
              "    </tr>\n",
              "    <tr>\n",
              "      <th>sick_from_seas_vacc</th>\n",
              "      <td>0.009563</td>\n",
              "      <td>0.225731</td>\n",
              "      <td>-0.062483</td>\n",
              "      <td>0.084305</td>\n",
              "      <td>0.082942</td>\n",
              "      <td>0.090009</td>\n",
              "      <td>0.088029</td>\n",
              "      <td>0.135446</td>\n",
              "      <td>0.138133</td>\n",
              "      <td>0.090097</td>\n",
              "      <td>...</td>\n",
              "      <td>-0.065886</td>\n",
              "      <td>0.012491</td>\n",
              "      <td>0.198601</td>\n",
              "      <td>0.491546</td>\n",
              "      <td>-0.017340</td>\n",
              "      <td>0.200379</td>\n",
              "      <td>1.000000</td>\n",
              "      <td>0.022925</td>\n",
              "      <td>0.057286</td>\n",
              "      <td>0.008360</td>\n",
              "    </tr>\n",
              "    <tr>\n",
              "      <th>no_of_adults</th>\n",
              "      <td>0.000187</td>\n",
              "      <td>-0.015658</td>\n",
              "      <td>0.024874</td>\n",
              "      <td>0.044900</td>\n",
              "      <td>0.019122</td>\n",
              "      <td>0.013991</td>\n",
              "      <td>0.009669</td>\n",
              "      <td>-0.031938</td>\n",
              "      <td>-0.027527</td>\n",
              "      <td>-0.000553</td>\n",
              "      <td>...</td>\n",
              "      <td>-0.078697</td>\n",
              "      <td>0.010970</td>\n",
              "      <td>0.030181</td>\n",
              "      <td>0.014769</td>\n",
              "      <td>-0.022579</td>\n",
              "      <td>0.006111</td>\n",
              "      <td>0.022925</td>\n",
              "      <td>1.000000</td>\n",
              "      <td>0.189571</td>\n",
              "      <td>0.007545</td>\n",
              "    </tr>\n",
              "    <tr>\n",
              "      <th>no_of_children</th>\n",
              "      <td>-0.003726</td>\n",
              "      <td>0.050525</td>\n",
              "      <td>0.050583</td>\n",
              "      <td>0.084822</td>\n",
              "      <td>0.040328</td>\n",
              "      <td>0.005826</td>\n",
              "      <td>0.047764</td>\n",
              "      <td>-0.009449</td>\n",
              "      <td>-0.009558</td>\n",
              "      <td>0.023606</td>\n",
              "      <td>...</td>\n",
              "      <td>-0.069402</td>\n",
              "      <td>-0.015242</td>\n",
              "      <td>0.095325</td>\n",
              "      <td>0.071164</td>\n",
              "      <td>-0.076503</td>\n",
              "      <td>0.025898</td>\n",
              "      <td>0.057286</td>\n",
              "      <td>0.189571</td>\n",
              "      <td>1.000000</td>\n",
              "      <td>-0.003320</td>\n",
              "    </tr>\n",
              "    <tr>\n",
              "      <th>h1n1_vaccine</th>\n",
              "      <td>-0.003280</td>\n",
              "      <td>0.121929</td>\n",
              "      <td>0.117951</td>\n",
              "      <td>0.040608</td>\n",
              "      <td>0.047690</td>\n",
              "      <td>0.070498</td>\n",
              "      <td>0.074712</td>\n",
              "      <td>0.017822</td>\n",
              "      <td>0.021768</td>\n",
              "      <td>0.071648</td>\n",
              "      <td>...</td>\n",
              "      <td>0.121170</td>\n",
              "      <td>0.269347</td>\n",
              "      <td>0.323265</td>\n",
              "      <td>0.075091</td>\n",
              "      <td>0.179272</td>\n",
              "      <td>0.258571</td>\n",
              "      <td>0.008360</td>\n",
              "      <td>0.007545</td>\n",
              "      <td>-0.003320</td>\n",
              "      <td>1.000000</td>\n",
              "    </tr>\n",
              "  </tbody>\n",
              "</table>\n",
              "<p>25 rows × 25 columns</p>\n",
              "</div>\n",
              "      <button class=\"colab-df-convert\" onclick=\"convertToInteractive('df-a8e90c06-ab0f-49bc-b278-1d6ff6b52bd1')\"\n",
              "              title=\"Convert this dataframe to an interactive table.\"\n",
              "              style=\"display:none;\">\n",
              "        \n",
              "  <svg xmlns=\"http://www.w3.org/2000/svg\" height=\"24px\"viewBox=\"0 0 24 24\"\n",
              "       width=\"24px\">\n",
              "    <path d=\"M0 0h24v24H0V0z\" fill=\"none\"/>\n",
              "    <path d=\"M18.56 5.44l.94 2.06.94-2.06 2.06-.94-2.06-.94-.94-2.06-.94 2.06-2.06.94zm-11 1L8.5 8.5l.94-2.06 2.06-.94-2.06-.94L8.5 2.5l-.94 2.06-2.06.94zm10 10l.94 2.06.94-2.06 2.06-.94-2.06-.94-.94-2.06-.94 2.06-2.06.94z\"/><path d=\"M17.41 7.96l-1.37-1.37c-.4-.4-.92-.59-1.43-.59-.52 0-1.04.2-1.43.59L10.3 9.45l-7.72 7.72c-.78.78-.78 2.05 0 2.83L4 21.41c.39.39.9.59 1.41.59.51 0 1.02-.2 1.41-.59l7.78-7.78 2.81-2.81c.8-.78.8-2.07 0-2.86zM5.41 20L4 18.59l7.72-7.72 1.47 1.35L5.41 20z\"/>\n",
              "  </svg>\n",
              "      </button>\n",
              "      \n",
              "  <style>\n",
              "    .colab-df-container {\n",
              "      display:flex;\n",
              "      flex-wrap:wrap;\n",
              "      gap: 12px;\n",
              "    }\n",
              "\n",
              "    .colab-df-convert {\n",
              "      background-color: #E8F0FE;\n",
              "      border: none;\n",
              "      border-radius: 50%;\n",
              "      cursor: pointer;\n",
              "      display: none;\n",
              "      fill: #1967D2;\n",
              "      height: 32px;\n",
              "      padding: 0 0 0 0;\n",
              "      width: 32px;\n",
              "    }\n",
              "\n",
              "    .colab-df-convert:hover {\n",
              "      background-color: #E2EBFA;\n",
              "      box-shadow: 0px 1px 2px rgba(60, 64, 67, 0.3), 0px 1px 3px 1px rgba(60, 64, 67, 0.15);\n",
              "      fill: #174EA6;\n",
              "    }\n",
              "\n",
              "    [theme=dark] .colab-df-convert {\n",
              "      background-color: #3B4455;\n",
              "      fill: #D2E3FC;\n",
              "    }\n",
              "\n",
              "    [theme=dark] .colab-df-convert:hover {\n",
              "      background-color: #434B5C;\n",
              "      box-shadow: 0px 1px 3px 1px rgba(0, 0, 0, 0.15);\n",
              "      filter: drop-shadow(0px 1px 2px rgba(0, 0, 0, 0.3));\n",
              "      fill: #FFFFFF;\n",
              "    }\n",
              "  </style>\n",
              "\n",
              "      <script>\n",
              "        const buttonEl =\n",
              "          document.querySelector('#df-a8e90c06-ab0f-49bc-b278-1d6ff6b52bd1 button.colab-df-convert');\n",
              "        buttonEl.style.display =\n",
              "          google.colab.kernel.accessAllowed ? 'block' : 'none';\n",
              "\n",
              "        async function convertToInteractive(key) {\n",
              "          const element = document.querySelector('#df-a8e90c06-ab0f-49bc-b278-1d6ff6b52bd1');\n",
              "          const dataTable =\n",
              "            await google.colab.kernel.invokeFunction('convertToInteractive',\n",
              "                                                     [key], {});\n",
              "          if (!dataTable) return;\n",
              "\n",
              "          const docLinkHtml = 'Like what you see? Visit the ' +\n",
              "            '<a target=\"_blank\" href=https://colab.research.google.com/notebooks/data_table.ipynb>data table notebook</a>'\n",
              "            + ' to learn more about interactive tables.';\n",
              "          element.innerHTML = '';\n",
              "          dataTable['output_type'] = 'display_data';\n",
              "          await google.colab.output.renderOutput(dataTable, element);\n",
              "          const docLink = document.createElement('div');\n",
              "          docLink.innerHTML = docLinkHtml;\n",
              "          element.appendChild(docLink);\n",
              "        }\n",
              "      </script>\n",
              "    </div>\n",
              "  </div>\n",
              "  "
            ]
          },
          "metadata": {},
          "execution_count": 226
        }
      ],
      "source": [
        "corr=df.corr()\n",
        "corr"
      ]
    },
    {
      "cell_type": "code",
      "execution_count": 227,
      "metadata": {
        "id": "o9KiGYNOxtZj"
      },
      "outputs": [],
      "source": [
        "# BECAUSE OF LARGE NUMBER OF COLUMNS HEATMAP IS OVERLAPPING HENCE CAN'T BE SEEN PROPERLY SO GOING FOR LOOPING TO GET CORRELATION."
      ]
    },
    {
      "cell_type": "code",
      "execution_count": 228,
      "metadata": {
        "id": "eMBUOLURBnKy"
      },
      "outputs": [],
      "source": [
        "a=np.asarray(corr)"
      ]
    },
    {
      "cell_type": "code",
      "execution_count": 229,
      "metadata": {
        "id": "-RCL10gcB0xC",
        "colab": {
          "base_uri": "https://localhost:8080/"
        },
        "outputId": "500e171b-41ad-4175-b229-224d20d48c3f"
      },
      "outputs": [
        {
          "output_type": "stream",
          "name": "stdout",
          "text": [
            "7 8 0.5840845791409999\n",
            "8 7 0.5840845791409999\n",
            "10 11 0.591867663364472\n",
            "11 10 0.591867663364472\n",
            "17 20 0.5642077579627028\n",
            "20 17 0.5642077579627028\n"
          ]
        }
      ],
      "source": [
        "for i in range(25):\n",
        "  for j in range(25):\n",
        "    if a[i][j]>0.5 and i!=j:\n",
        "      print(i,j , a[i][j])"
      ]
    },
    {
      "cell_type": "code",
      "execution_count": 230,
      "metadata": {
        "id": "SxmoRie5Cupd"
      },
      "outputs": [],
      "source": [
        "# only (7,8) , (10,11) , (17,20) are correlated more than 50% but all these are catagorical hence they will not give a good understanding of correlation"
      ]
    },
    {
      "cell_type": "code",
      "execution_count": 231,
      "metadata": {
        "id": "WpadlJPqDqxR"
      },
      "outputs": [],
      "source": [
        "# now dealing with null values of float data with median"
      ]
    },
    {
      "cell_type": "code",
      "execution_count": 232,
      "metadata": {
        "id": "x2Uqykw6D1Mb"
      },
      "outputs": [],
      "source": [
        "def null_replace(col):\n",
        "  med=col.median()\n",
        "  col.replace(np.nan,med,inplace=True)\n",
        "\n",
        "columns=['unique_id','h1n1_worry','h1n1_awareness','antiviral_medication','contact_avoidance','bought_face_mask','wash_hands_frequently','avoid_large_gatherings','reduced_outside_home_cont','avoid_touch_face','dr_recc_h1n1_vacc','dr_recc_seasonal_vacc','chronic_medic_condition','cont_child_undr_6_mnths','is_health_worker','has_health_insur','is_h1n1_vacc_effective','is_h1n1_risky','sick_from_h1n1_vacc','is_seas_vacc_effective','is_seas_risky','sick_from_seas_vacc','no_of_adults','no_of_children','h1n1_vaccine']\n",
        "for i in columns:\n",
        "  null_replace(df[i])"
      ]
    },
    {
      "cell_type": "code",
      "execution_count": 233,
      "metadata": {
        "id": "J5aTDUAvKII-",
        "colab": {
          "base_uri": "https://localhost:8080/"
        },
        "outputId": "6776ec1b-60b8-49d2-bc3b-1197b237b2fa"
      },
      "outputs": [
        {
          "output_type": "execute_result",
          "data": {
            "text/plain": [
              "unique_id                       0\n",
              "h1n1_worry                      0\n",
              "h1n1_awareness                  0\n",
              "antiviral_medication            0\n",
              "contact_avoidance               0\n",
              "bought_face_mask                0\n",
              "wash_hands_frequently           0\n",
              "avoid_large_gatherings          0\n",
              "reduced_outside_home_cont       0\n",
              "avoid_touch_face                0\n",
              "dr_recc_h1n1_vacc               0\n",
              "dr_recc_seasonal_vacc           0\n",
              "chronic_medic_condition         0\n",
              "cont_child_undr_6_mnths         0\n",
              "is_health_worker                0\n",
              "has_health_insur                0\n",
              "is_h1n1_vacc_effective          0\n",
              "is_h1n1_risky                   0\n",
              "sick_from_h1n1_vacc             0\n",
              "is_seas_vacc_effective          0\n",
              "is_seas_risky                   0\n",
              "sick_from_seas_vacc             0\n",
              "age_bracket                     0\n",
              "qualification                1407\n",
              "race                            0\n",
              "sex                             0\n",
              "income_level                 4423\n",
              "marital_status               1408\n",
              "housing_status               2042\n",
              "employment                   1463\n",
              "census_msa                      0\n",
              "no_of_adults                    0\n",
              "no_of_children                  0\n",
              "h1n1_vaccine                    0\n",
              "dtype: int64"
            ]
          },
          "metadata": {},
          "execution_count": 233
        }
      ],
      "source": [
        "df.isnull().sum()"
      ]
    },
    {
      "cell_type": "code",
      "execution_count": 234,
      "metadata": {
        "id": "nOwN2a9kNCnb"
      },
      "outputs": [],
      "source": [
        "# Now dealing with missing values of catagorical data"
      ]
    },
    {
      "cell_type": "code",
      "execution_count": 235,
      "metadata": {
        "id": "1JJG202KJsPD",
        "colab": {
          "base_uri": "https://localhost:8080/",
          "height": 36
        },
        "outputId": "b6de80a6-8faf-4f62-f1eb-73ae6c94cd3b"
      },
      "outputs": [
        {
          "output_type": "execute_result",
          "data": {
            "text/plain": [
              "'College Graduate'"
            ],
            "application/vnd.google.colaboratory.intrinsic+json": {
              "type": "string"
            }
          },
          "metadata": {},
          "execution_count": 235
        }
      ],
      "source": [
        "mode1=df['qualification'].value_counts(dropna=True).idxmax()\n",
        "mode1"
      ]
    },
    {
      "cell_type": "code",
      "execution_count": 236,
      "metadata": {
        "id": "tIluXc8-LulU"
      },
      "outputs": [],
      "source": [
        "df['qualification'].fillna(mode1,inplace=True)"
      ]
    },
    {
      "cell_type": "code",
      "execution_count": 237,
      "metadata": {
        "id": "VKguuDMUJsMX",
        "colab": {
          "base_uri": "https://localhost:8080/",
          "height": 36
        },
        "outputId": "431f4bef-42b8-4351-9996-43688437cc08"
      },
      "outputs": [
        {
          "output_type": "execute_result",
          "data": {
            "text/plain": [
              "'<= $75,000, Above Poverty'"
            ],
            "application/vnd.google.colaboratory.intrinsic+json": {
              "type": "string"
            }
          },
          "metadata": {},
          "execution_count": 237
        }
      ],
      "source": [
        "mode2=df['income_level'].value_counts(dropna=True).idxmax()\n",
        "mode2"
      ]
    },
    {
      "cell_type": "code",
      "execution_count": 238,
      "metadata": {
        "id": "C8j8leAYJsJa"
      },
      "outputs": [],
      "source": [
        "df['income_level'].fillna(mode2,inplace=True)"
      ]
    },
    {
      "cell_type": "code",
      "execution_count": 239,
      "metadata": {
        "id": "zwnmLih7JsGZ",
        "colab": {
          "base_uri": "https://localhost:8080/",
          "height": 36
        },
        "outputId": "2877fab3-961e-450c-b5eb-ad3f18914b68"
      },
      "outputs": [
        {
          "output_type": "execute_result",
          "data": {
            "text/plain": [
              "'Employed'"
            ],
            "application/vnd.google.colaboratory.intrinsic+json": {
              "type": "string"
            }
          },
          "metadata": {},
          "execution_count": 239
        }
      ],
      "source": [
        "mode3=df['employment'].value_counts(dropna=True).idxmax()\n",
        "mode3"
      ]
    },
    {
      "cell_type": "code",
      "execution_count": 240,
      "metadata": {
        "id": "o4IkkAiUJsDG"
      },
      "outputs": [],
      "source": [
        "df['employment'].fillna(mode3,inplace=True)"
      ]
    },
    {
      "cell_type": "code",
      "execution_count": 241,
      "metadata": {
        "id": "bVT_XqGUMycG",
        "colab": {
          "base_uri": "https://localhost:8080/"
        },
        "outputId": "eb9381ca-47e5-4e1e-cf6a-ad58191e9506"
      },
      "outputs": [
        {
          "output_type": "execute_result",
          "data": {
            "text/plain": [
              "unique_id                       0\n",
              "h1n1_worry                      0\n",
              "h1n1_awareness                  0\n",
              "antiviral_medication            0\n",
              "contact_avoidance               0\n",
              "bought_face_mask                0\n",
              "wash_hands_frequently           0\n",
              "avoid_large_gatherings          0\n",
              "reduced_outside_home_cont       0\n",
              "avoid_touch_face                0\n",
              "dr_recc_h1n1_vacc               0\n",
              "dr_recc_seasonal_vacc           0\n",
              "chronic_medic_condition         0\n",
              "cont_child_undr_6_mnths         0\n",
              "is_health_worker                0\n",
              "has_health_insur                0\n",
              "is_h1n1_vacc_effective          0\n",
              "is_h1n1_risky                   0\n",
              "sick_from_h1n1_vacc             0\n",
              "is_seas_vacc_effective          0\n",
              "is_seas_risky                   0\n",
              "sick_from_seas_vacc             0\n",
              "age_bracket                     0\n",
              "qualification                   0\n",
              "race                            0\n",
              "sex                             0\n",
              "income_level                    0\n",
              "marital_status               1408\n",
              "housing_status               2042\n",
              "employment                      0\n",
              "census_msa                      0\n",
              "no_of_adults                    0\n",
              "no_of_children                  0\n",
              "h1n1_vaccine                    0\n",
              "dtype: int64"
            ]
          },
          "metadata": {},
          "execution_count": 241
        }
      ],
      "source": [
        "df.isnull().sum()"
      ]
    },
    {
      "cell_type": "code",
      "execution_count": 242,
      "metadata": {
        "id": "nCdb6snlKROZ"
      },
      "outputs": [],
      "source": [
        "# removing duplicated data"
      ]
    },
    {
      "cell_type": "code",
      "execution_count": 243,
      "metadata": {
        "id": "ncJvzuZarta6"
      },
      "outputs": [],
      "source": [
        "df.drop_duplicates(inplace=True)"
      ]
    },
    {
      "cell_type": "code",
      "execution_count": 244,
      "metadata": {
        "id": "MqeDoDDGr4PI",
        "colab": {
          "base_uri": "https://localhost:8080/"
        },
        "outputId": "87acf60f-d702-4a0a-f228-ff26b12b1823"
      },
      "outputs": [
        {
          "output_type": "execute_result",
          "data": {
            "text/plain": [
              "(26707, 34)"
            ]
          },
          "metadata": {},
          "execution_count": 244
        }
      ],
      "source": [
        "df.shape"
      ]
    },
    {
      "cell_type": "code",
      "execution_count": 245,
      "metadata": {
        "id": "FNNeK5O-r_hq"
      },
      "outputs": [],
      "source": [
        "# removing some columns which are not useful for classifiers"
      ]
    },
    {
      "cell_type": "code",
      "execution_count": 246,
      "metadata": {
        "id": "wvcJixbLsLG1"
      },
      "outputs": [],
      "source": [
        "column=['race','marital_status','housing_status']\n",
        "df.drop(column,axis=1,inplace=True)"
      ]
    },
    {
      "cell_type": "code",
      "execution_count": 247,
      "metadata": {
        "id": "lLZ2rnCrsmUJ",
        "colab": {
          "base_uri": "https://localhost:8080/"
        },
        "outputId": "f87e9d5e-0cd0-4df2-a54b-559c2edb5c4d"
      },
      "outputs": [
        {
          "output_type": "execute_result",
          "data": {
            "text/plain": [
              "(26707, 31)"
            ]
          },
          "metadata": {},
          "execution_count": 247
        }
      ],
      "source": [
        "df.shape"
      ]
    },
    {
      "cell_type": "code",
      "execution_count": 248,
      "metadata": {
        "id": "bPy5hwQAso0q",
        "colab": {
          "base_uri": "https://localhost:8080/"
        },
        "outputId": "a9c71416-f0a3-47f8-a1db-893731847846"
      },
      "outputs": [
        {
          "output_type": "stream",
          "name": "stdout",
          "text": [
            "<class 'pandas.core.frame.DataFrame'>\n",
            "Int64Index: 26707 entries, 0 to 26706\n",
            "Data columns (total 31 columns):\n",
            " #   Column                     Non-Null Count  Dtype  \n",
            "---  ------                     --------------  -----  \n",
            " 0   unique_id                  26707 non-null  int64  \n",
            " 1   h1n1_worry                 26707 non-null  float64\n",
            " 2   h1n1_awareness             26707 non-null  float64\n",
            " 3   antiviral_medication       26707 non-null  float64\n",
            " 4   contact_avoidance          26707 non-null  float64\n",
            " 5   bought_face_mask           26707 non-null  float64\n",
            " 6   wash_hands_frequently      26707 non-null  float64\n",
            " 7   avoid_large_gatherings     26707 non-null  float64\n",
            " 8   reduced_outside_home_cont  26707 non-null  float64\n",
            " 9   avoid_touch_face           26707 non-null  float64\n",
            " 10  dr_recc_h1n1_vacc          26707 non-null  float64\n",
            " 11  dr_recc_seasonal_vacc      26707 non-null  float64\n",
            " 12  chronic_medic_condition    26707 non-null  float64\n",
            " 13  cont_child_undr_6_mnths    26707 non-null  float64\n",
            " 14  is_health_worker           26707 non-null  float64\n",
            " 15  has_health_insur           26707 non-null  float64\n",
            " 16  is_h1n1_vacc_effective     26707 non-null  float64\n",
            " 17  is_h1n1_risky              26707 non-null  float64\n",
            " 18  sick_from_h1n1_vacc        26707 non-null  float64\n",
            " 19  is_seas_vacc_effective     26707 non-null  float64\n",
            " 20  is_seas_risky              26707 non-null  float64\n",
            " 21  sick_from_seas_vacc        26707 non-null  float64\n",
            " 22  age_bracket                26707 non-null  object \n",
            " 23  qualification              26707 non-null  object \n",
            " 24  sex                        26707 non-null  object \n",
            " 25  income_level               26707 non-null  object \n",
            " 26  employment                 26707 non-null  object \n",
            " 27  census_msa                 26707 non-null  object \n",
            " 28  no_of_adults               26707 non-null  float64\n",
            " 29  no_of_children             26707 non-null  float64\n",
            " 30  h1n1_vaccine               26707 non-null  int64  \n",
            "dtypes: float64(23), int64(2), object(6)\n",
            "memory usage: 6.5+ MB\n"
          ]
        }
      ],
      "source": [
        "df.info()"
      ]
    },
    {
      "cell_type": "code",
      "execution_count": 249,
      "metadata": {
        "id": "LiTosUtjM43B",
        "colab": {
          "base_uri": "https://localhost:8080/"
        },
        "outputId": "4adbb4df-e376-428a-b2f0-26dcf151da50"
      },
      "outputs": [
        {
          "output_type": "execute_result",
          "data": {
            "text/plain": [
              "unique_id                    0\n",
              "h1n1_worry                   0\n",
              "h1n1_awareness               0\n",
              "antiviral_medication         0\n",
              "contact_avoidance            0\n",
              "bought_face_mask             0\n",
              "wash_hands_frequently        0\n",
              "avoid_large_gatherings       0\n",
              "reduced_outside_home_cont    0\n",
              "avoid_touch_face             0\n",
              "dr_recc_h1n1_vacc            0\n",
              "dr_recc_seasonal_vacc        0\n",
              "chronic_medic_condition      0\n",
              "cont_child_undr_6_mnths      0\n",
              "is_health_worker             0\n",
              "has_health_insur             0\n",
              "is_h1n1_vacc_effective       0\n",
              "is_h1n1_risky                0\n",
              "sick_from_h1n1_vacc          0\n",
              "is_seas_vacc_effective       0\n",
              "is_seas_risky                0\n",
              "sick_from_seas_vacc          0\n",
              "age_bracket                  0\n",
              "qualification                0\n",
              "sex                          0\n",
              "income_level                 0\n",
              "employment                   0\n",
              "census_msa                   0\n",
              "no_of_adults                 0\n",
              "no_of_children               0\n",
              "h1n1_vaccine                 0\n",
              "dtype: int64"
            ]
          },
          "metadata": {},
          "execution_count": 249
        }
      ],
      "source": [
        "df.isnull().sum()"
      ]
    },
    {
      "cell_type": "code",
      "execution_count": 250,
      "metadata": {
        "id": "3u_YV4nQssy_"
      },
      "outputs": [],
      "source": [
        "# encoding the object data types"
      ]
    },
    {
      "cell_type": "code",
      "execution_count": 251,
      "metadata": {
        "id": "nXSjM6rstADl"
      },
      "outputs": [],
      "source": [
        "column=['age_bracket','qualification','sex','income_level','employment','census_msa']\n",
        "dummies=pd.get_dummies(df[['age_bracket','qualification','sex','income_level','employment','census_msa']])\n",
        "dummies.head()\n",
        "df=pd.concat([df,dummies],axis=1)\n",
        "df.drop(column,axis=1,inplace=True)"
      ]
    },
    {
      "cell_type": "code",
      "execution_count": 252,
      "metadata": {
        "id": "c_VlI0qitfus",
        "colab": {
          "base_uri": "https://localhost:8080/"
        },
        "outputId": "cb1d1150-e230-4945-a9e1-adb4b1221795"
      },
      "outputs": [
        {
          "output_type": "execute_result",
          "data": {
            "text/plain": [
              "(26707, 45)"
            ]
          },
          "metadata": {},
          "execution_count": 252
        }
      ],
      "source": [
        "df.shape"
      ]
    },
    {
      "cell_type": "code",
      "execution_count": 253,
      "metadata": {
        "id": "s-aKP7TiuIGL",
        "colab": {
          "base_uri": "https://localhost:8080/"
        },
        "outputId": "223f2311-44d1-40dd-ed28-6c43c4ebf6a5"
      },
      "outputs": [
        {
          "output_type": "stream",
          "name": "stdout",
          "text": [
            "<class 'pandas.core.frame.DataFrame'>\n",
            "Int64Index: 26707 entries, 0 to 26706\n",
            "Data columns (total 45 columns):\n",
            " #   Column                                  Non-Null Count  Dtype  \n",
            "---  ------                                  --------------  -----  \n",
            " 0   unique_id                               26707 non-null  int64  \n",
            " 1   h1n1_worry                              26707 non-null  float64\n",
            " 2   h1n1_awareness                          26707 non-null  float64\n",
            " 3   antiviral_medication                    26707 non-null  float64\n",
            " 4   contact_avoidance                       26707 non-null  float64\n",
            " 5   bought_face_mask                        26707 non-null  float64\n",
            " 6   wash_hands_frequently                   26707 non-null  float64\n",
            " 7   avoid_large_gatherings                  26707 non-null  float64\n",
            " 8   reduced_outside_home_cont               26707 non-null  float64\n",
            " 9   avoid_touch_face                        26707 non-null  float64\n",
            " 10  dr_recc_h1n1_vacc                       26707 non-null  float64\n",
            " 11  dr_recc_seasonal_vacc                   26707 non-null  float64\n",
            " 12  chronic_medic_condition                 26707 non-null  float64\n",
            " 13  cont_child_undr_6_mnths                 26707 non-null  float64\n",
            " 14  is_health_worker                        26707 non-null  float64\n",
            " 15  has_health_insur                        26707 non-null  float64\n",
            " 16  is_h1n1_vacc_effective                  26707 non-null  float64\n",
            " 17  is_h1n1_risky                           26707 non-null  float64\n",
            " 18  sick_from_h1n1_vacc                     26707 non-null  float64\n",
            " 19  is_seas_vacc_effective                  26707 non-null  float64\n",
            " 20  is_seas_risky                           26707 non-null  float64\n",
            " 21  sick_from_seas_vacc                     26707 non-null  float64\n",
            " 22  no_of_adults                            26707 non-null  float64\n",
            " 23  no_of_children                          26707 non-null  float64\n",
            " 24  h1n1_vaccine                            26707 non-null  int64  \n",
            " 25  age_bracket_18 - 34 Years               26707 non-null  uint8  \n",
            " 26  age_bracket_35 - 44 Years               26707 non-null  uint8  \n",
            " 27  age_bracket_45 - 54 Years               26707 non-null  uint8  \n",
            " 28  age_bracket_55 - 64 Years               26707 non-null  uint8  \n",
            " 29  age_bracket_65+ Years                   26707 non-null  uint8  \n",
            " 30  qualification_12 Years                  26707 non-null  uint8  \n",
            " 31  qualification_< 12 Years                26707 non-null  uint8  \n",
            " 32  qualification_College Graduate          26707 non-null  uint8  \n",
            " 33  qualification_Some College              26707 non-null  uint8  \n",
            " 34  sex_Female                              26707 non-null  uint8  \n",
            " 35  sex_Male                                26707 non-null  uint8  \n",
            " 36  income_level_<= $75,000, Above Poverty  26707 non-null  uint8  \n",
            " 37  income_level_> $75,000                  26707 non-null  uint8  \n",
            " 38  income_level_Below Poverty              26707 non-null  uint8  \n",
            " 39  employment_Employed                     26707 non-null  uint8  \n",
            " 40  employment_Not in Labor Force           26707 non-null  uint8  \n",
            " 41  employment_Unemployed                   26707 non-null  uint8  \n",
            " 42  census_msa_MSA, Not Principle  City     26707 non-null  uint8  \n",
            " 43  census_msa_MSA, Principle City          26707 non-null  uint8  \n",
            " 44  census_msa_Non-MSA                      26707 non-null  uint8  \n",
            "dtypes: float64(23), int64(2), uint8(20)\n",
            "memory usage: 5.8 MB\n"
          ]
        }
      ],
      "source": [
        "df.info()"
      ]
    },
    {
      "cell_type": "code",
      "execution_count": 254,
      "metadata": {
        "id": "_iJPrFlKxT3P"
      },
      "outputs": [],
      "source": [
        "# THERE ARE ONLY BINARY DATA OR CATAGORICAL DATA HENCE NO OUTLIERS"
      ]
    },
    {
      "cell_type": "code",
      "execution_count": 255,
      "metadata": {
        "id": "B4LowOqpxdcD"
      },
      "outputs": [],
      "source": [
        "x_ns=df.drop(['h1n1_vaccine'],axis=1)        #not standardised\n",
        "y_ns=df['h1n1_vaccine']      #not standardised"
      ]
    },
    {
      "cell_type": "code",
      "execution_count": 256,
      "metadata": {
        "id": "3qhNIq-BxgIM"
      },
      "outputs": [],
      "source": [
        "x_ns_train,x_ns_test,y_ns_train,y_ns_test=train_test_split(x_ns,y_ns,test_size=0.2)"
      ]
    },
    {
      "cell_type": "code",
      "execution_count": 257,
      "metadata": {
        "id": "NL27RsyXzESa",
        "colab": {
          "base_uri": "https://localhost:8080/"
        },
        "outputId": "272bc0b2-ecf4-485b-a0e0-50a5ef814a68"
      },
      "outputs": [
        {
          "output_type": "execute_result",
          "data": {
            "text/plain": [
              "(21365, 44)"
            ]
          },
          "metadata": {},
          "execution_count": 257
        }
      ],
      "source": [
        "x_ns_train.shape"
      ]
    },
    {
      "cell_type": "code",
      "execution_count": 258,
      "metadata": {
        "id": "3NRnAPlgzJIN",
        "colab": {
          "base_uri": "https://localhost:8080/"
        },
        "outputId": "68c2826e-c861-4988-aa77-7d3718d0e75e"
      },
      "outputs": [
        {
          "output_type": "execute_result",
          "data": {
            "text/plain": [
              "(5342, 44)"
            ]
          },
          "metadata": {},
          "execution_count": 258
        }
      ],
      "source": [
        "x_ns_test.shape"
      ]
    },
    {
      "cell_type": "code",
      "execution_count": 259,
      "metadata": {
        "id": "D25FUyo62onc"
      },
      "outputs": [],
      "source": [
        "#LOGISTIC REGRESSION WITHOUT STANDARDISATION"
      ]
    },
    {
      "cell_type": "code",
      "execution_count": 260,
      "metadata": {
        "id": "0SkP7HYOzM-s",
        "colab": {
          "base_uri": "https://localhost:8080/"
        },
        "outputId": "f010b009-299a-4050-fa0b-24c5afd186ab"
      },
      "outputs": [
        {
          "output_type": "execute_result",
          "data": {
            "text/plain": [
              "LogisticRegression()"
            ]
          },
          "metadata": {},
          "execution_count": 260
        }
      ],
      "source": [
        "model1 = LogisticRegression()\n",
        "model1.fit(x_ns_train,y_ns_train,sample_weight=50)"
      ]
    },
    {
      "cell_type": "code",
      "execution_count": 261,
      "metadata": {
        "id": "JGMNQq3v1mbx",
        "colab": {
          "base_uri": "https://localhost:8080/"
        },
        "outputId": "332dea7f-758c-4291-f73d-bff5543afd6d"
      },
      "outputs": [
        {
          "output_type": "execute_result",
          "data": {
            "text/plain": [
              "0.8205008190966534"
            ]
          },
          "metadata": {},
          "execution_count": 261
        }
      ],
      "source": [
        "predictions=model1.predict(x_ns_train)\n",
        "accuracy_score(y_ns_train,predictions)"
      ]
    },
    {
      "cell_type": "code",
      "execution_count": 262,
      "metadata": {
        "id": "Urv3oqG810R0",
        "colab": {
          "base_uri": "https://localhost:8080/"
        },
        "outputId": "5fabb450-c774-4a60-a97f-113f130fdf5b"
      },
      "outputs": [
        {
          "output_type": "execute_result",
          "data": {
            "text/plain": [
              "0.8152377386746537"
            ]
          },
          "metadata": {},
          "execution_count": 262
        }
      ],
      "source": [
        "predictions=model1.predict(x_ns_test)\n",
        "accuracy_score(y_ns_test,predictions)"
      ]
    },
    {
      "cell_type": "code",
      "execution_count": 263,
      "metadata": {
        "id": "l4vSQwL_2AZx"
      },
      "outputs": [],
      "source": [
        "# KNN WITHOUT STANDARDISATION"
      ]
    },
    {
      "cell_type": "code",
      "execution_count": 264,
      "metadata": {
        "id": "khccDGMx2JYc",
        "colab": {
          "base_uri": "https://localhost:8080/"
        },
        "outputId": "be97b31b-077d-4103-a780-7b193f013839"
      },
      "outputs": [
        {
          "output_type": "execute_result",
          "data": {
            "text/plain": [
              "KNeighborsClassifier(algorithm='kd_tree', n_neighbors=6)"
            ]
          },
          "metadata": {},
          "execution_count": 264
        }
      ],
      "source": [
        "model2=KNeighborsClassifier(n_neighbors=6,algorithm='kd_tree')\n",
        "model2.fit(x_ns_train,y_ns_train)"
      ]
    },
    {
      "cell_type": "code",
      "execution_count": 265,
      "metadata": {
        "id": "I4RlyP_h4h4Z",
        "colab": {
          "base_uri": "https://localhost:8080/"
        },
        "outputId": "f1c95f4b-090f-4683-fc65-f1a13c65520e"
      },
      "outputs": [
        {
          "output_type": "execute_result",
          "data": {
            "text/plain": [
              "0.7996255558155863"
            ]
          },
          "metadata": {},
          "execution_count": 265
        }
      ],
      "source": [
        "predictions=model2.predict(x_ns_train)\n",
        "accuracy_score(y_ns_train,predictions)"
      ]
    },
    {
      "cell_type": "code",
      "execution_count": 266,
      "metadata": {
        "id": "FJ7pxe_e4qjS",
        "colab": {
          "base_uri": "https://localhost:8080/"
        },
        "outputId": "3b5d724e-ef82-41d7-cc8d-60c143636f6f"
      },
      "outputs": [
        {
          "output_type": "execute_result",
          "data": {
            "text/plain": [
              "0.7796705353800075"
            ]
          },
          "metadata": {},
          "execution_count": 266
        }
      ],
      "source": [
        "predictions=model2.predict(x_ns_test)\n",
        "accuracy_score(y_ns_test,predictions)"
      ]
    },
    {
      "cell_type": "code",
      "execution_count": 267,
      "metadata": {
        "id": "XpeL9_Uu4v3k"
      },
      "outputs": [],
      "source": [
        "# Naive Bayes without Standardisation"
      ]
    },
    {
      "cell_type": "code",
      "source": [
        "model3 = GaussianNB()\n",
        "model3.fit(x_ns_train,y_ns_train)"
      ],
      "metadata": {
        "id": "Vo1wAWx6HOEu",
        "colab": {
          "base_uri": "https://localhost:8080/"
        },
        "outputId": "9620e38c-a2a4-43d4-9aa6-35d3b21bac0d"
      },
      "execution_count": 268,
      "outputs": [
        {
          "output_type": "execute_result",
          "data": {
            "text/plain": [
              "GaussianNB()"
            ]
          },
          "metadata": {},
          "execution_count": 268
        }
      ]
    },
    {
      "cell_type": "code",
      "source": [
        "predictions=model3.predict(x_ns_train)\n",
        "accuracy_score(y_ns_train,predictions)"
      ],
      "metadata": {
        "id": "BapyePniHQ-I",
        "colab": {
          "base_uri": "https://localhost:8080/"
        },
        "outputId": "8f03bec3-bc91-4a9f-afa0-1209737c140e"
      },
      "execution_count": 269,
      "outputs": [
        {
          "output_type": "execute_result",
          "data": {
            "text/plain": [
              "0.7902644512052422"
            ]
          },
          "metadata": {},
          "execution_count": 269
        }
      ]
    },
    {
      "cell_type": "code",
      "source": [
        "predictions=model3.predict(x_ns_test)\n",
        "accuracy_score(y_ns_test,predictions)"
      ],
      "metadata": {
        "id": "LGPIMvRXHYu0",
        "colab": {
          "base_uri": "https://localhost:8080/"
        },
        "outputId": "a90f1d39-54ca-44e2-e90a-f5d5782cc44b"
      },
      "execution_count": 270,
      "outputs": [
        {
          "output_type": "execute_result",
          "data": {
            "text/plain": [
              "0.7888431299138899"
            ]
          },
          "metadata": {},
          "execution_count": 270
        }
      ]
    },
    {
      "cell_type": "code",
      "source": [
        "# STANDARDISING THE DATASET"
      ],
      "metadata": {
        "id": "0EYCsq4zHcAX"
      },
      "execution_count": 271,
      "outputs": []
    },
    {
      "cell_type": "code",
      "source": [
        "model_std=StandardScaler()"
      ],
      "metadata": {
        "id": "b5PgAEgSHfeG"
      },
      "execution_count": 272,
      "outputs": []
    },
    {
      "cell_type": "code",
      "source": [
        "model_std.fit_transform(df)"
      ],
      "metadata": {
        "id": "0GheADkuIxdH",
        "colab": {
          "base_uri": "https://localhost:8080/"
        },
        "outputId": "26bafc74-a197-492f-a7c7-ffbef60aa364"
      },
      "execution_count": 273,
      "outputs": [
        {
          "output_type": "execute_result",
          "data": {
            "text/plain": [
              "array([[-1.73198595, -0.68184881, -2.04427905, ..., -0.87928249,\n",
              "        -0.64602114,  1.64630987],\n",
              "       [-1.73185625,  1.51837305,  1.19702709, ...,  1.13729093,\n",
              "        -0.64602114, -0.60741906],\n",
              "       [-1.73172654, -0.68184881, -0.42362598, ...,  1.13729093,\n",
              "        -0.64602114, -0.60741906],\n",
              "       ...,\n",
              "       [ 1.73172654,  0.41826212,  1.19702709, ...,  1.13729093,\n",
              "        -0.64602114, -0.60741906],\n",
              "       [ 1.73185625, -0.68184881, -0.42362598, ..., -0.87928249,\n",
              "        -0.64602114,  1.64630987],\n",
              "       [ 1.73198595, -1.78195974, -2.04427905, ..., -0.87928249,\n",
              "         1.54793697, -0.60741906]])"
            ]
          },
          "metadata": {},
          "execution_count": 273
        }
      ]
    },
    {
      "cell_type": "code",
      "source": [
        "x=df.drop(['h1n1_vaccine'],axis=1)\n",
        "y=df['h1n1_vaccine'] "
      ],
      "metadata": {
        "id": "26uaH70QI4Zp"
      },
      "execution_count": 274,
      "outputs": []
    },
    {
      "cell_type": "code",
      "source": [
        "x_train,x_test,y_train,y_test=train_test_split(x,y,test_size=0.2)"
      ],
      "metadata": {
        "id": "fw12rjCmI8u3"
      },
      "execution_count": 275,
      "outputs": []
    },
    {
      "cell_type": "code",
      "source": [
        "x_test.shape"
      ],
      "metadata": {
        "id": "y_vF_dc2JgNC",
        "colab": {
          "base_uri": "https://localhost:8080/"
        },
        "outputId": "ee1fdcc6-ad8e-4223-9090-7e2bb55f35d4"
      },
      "execution_count": 276,
      "outputs": [
        {
          "output_type": "execute_result",
          "data": {
            "text/plain": [
              "(5342, 44)"
            ]
          },
          "metadata": {},
          "execution_count": 276
        }
      ]
    },
    {
      "cell_type": "code",
      "source": [
        "x_train.shape"
      ],
      "metadata": {
        "id": "DFeZw5APJxwD",
        "colab": {
          "base_uri": "https://localhost:8080/"
        },
        "outputId": "4b7fd1a0-4a06-4bf7-c2bc-1614af75aa34"
      },
      "execution_count": 277,
      "outputs": [
        {
          "output_type": "execute_result",
          "data": {
            "text/plain": [
              "(21365, 44)"
            ]
          },
          "metadata": {},
          "execution_count": 277
        }
      ]
    },
    {
      "cell_type": "code",
      "source": [
        "# LOGISTIOC REGRESSION"
      ],
      "metadata": {
        "id": "ZLcjsBTJJ1oI"
      },
      "execution_count": 278,
      "outputs": []
    },
    {
      "cell_type": "code",
      "source": [
        "model4 = LogisticRegression()\n",
        "model4.fit(x_train,y_train)"
      ],
      "metadata": {
        "id": "buAZVTnGJ7NC",
        "colab": {
          "base_uri": "https://localhost:8080/"
        },
        "outputId": "0f5c1271-7555-4384-8194-1fa6412b6283"
      },
      "execution_count": 313,
      "outputs": [
        {
          "output_type": "execute_result",
          "data": {
            "text/plain": [
              "LogisticRegression()"
            ]
          },
          "metadata": {},
          "execution_count": 313
        }
      ]
    },
    {
      "cell_type": "code",
      "source": [
        "predictions=model4.predict(x_train)\n",
        "accuracy_score(y_train,predictions)"
      ],
      "metadata": {
        "id": "kQXFEyYUKFp9",
        "colab": {
          "base_uri": "https://localhost:8080/"
        },
        "outputId": "108806d3-8ca2-4313-f1bc-446031bec634"
      },
      "execution_count": 280,
      "outputs": [
        {
          "output_type": "execute_result",
          "data": {
            "text/plain": [
              "0.7937748654341212"
            ]
          },
          "metadata": {},
          "execution_count": 280
        }
      ]
    },
    {
      "cell_type": "code",
      "source": [
        "predictions=model4.predict(x_test)\n",
        "accuracy_score(y_test,predictions)"
      ],
      "metadata": {
        "id": "VSbZyiVvKW1A",
        "colab": {
          "base_uri": "https://localhost:8080/"
        },
        "outputId": "390dd5eb-e0de-4d05-a816-87f6ff5272d1"
      },
      "execution_count": 281,
      "outputs": [
        {
          "output_type": "execute_result",
          "data": {
            "text/plain": [
              "0.8019468363908648"
            ]
          },
          "metadata": {},
          "execution_count": 281
        }
      ]
    },
    {
      "cell_type": "code",
      "source": [
        "# KNN"
      ],
      "metadata": {
        "id": "VeJ098DOKgvt"
      },
      "execution_count": 282,
      "outputs": []
    },
    {
      "cell_type": "code",
      "source": [
        "model5=KNeighborsClassifier(algorithm='brute')\n",
        "model5.fit(x_train,y_train)"
      ],
      "metadata": {
        "id": "4OK3GiGGK5EI",
        "colab": {
          "base_uri": "https://localhost:8080/"
        },
        "outputId": "83b41134-ccde-4212-88a2-9bbd5b32088e"
      },
      "execution_count": 283,
      "outputs": [
        {
          "output_type": "execute_result",
          "data": {
            "text/plain": [
              "KNeighborsClassifier(algorithm='brute')"
            ]
          },
          "metadata": {},
          "execution_count": 283
        }
      ]
    },
    {
      "cell_type": "code",
      "source": [
        "predictions=model5.predict(x_train)\n",
        "accuracy_score(y_train,predictions)"
      ],
      "metadata": {
        "id": "vr3vG34pLCxU",
        "colab": {
          "base_uri": "https://localhost:8080/"
        },
        "outputId": "79d15c43-2c5e-4323-b928-8641e97fe373"
      },
      "execution_count": 284,
      "outputs": [
        {
          "output_type": "execute_result",
          "data": {
            "text/plain": [
              "0.8124034636087059"
            ]
          },
          "metadata": {},
          "execution_count": 284
        }
      ]
    },
    {
      "cell_type": "code",
      "source": [
        "predictions=model5.predict(x_test)\n",
        "accuracy_score(y_test,predictions)"
      ],
      "metadata": {
        "id": "BG29klpVLGjj",
        "colab": {
          "base_uri": "https://localhost:8080/"
        },
        "outputId": "26771a75-b601-4280-bbbb-bf8835b97aed"
      },
      "execution_count": 285,
      "outputs": [
        {
          "output_type": "execute_result",
          "data": {
            "text/plain": [
              "0.7703107450393111"
            ]
          },
          "metadata": {},
          "execution_count": 285
        }
      ]
    },
    {
      "cell_type": "code",
      "source": [
        "# Naive Bayes"
      ],
      "metadata": {
        "id": "45Gwn1ZYLJW6"
      },
      "execution_count": 286,
      "outputs": []
    },
    {
      "cell_type": "code",
      "source": [
        "model6 = GaussianNB(var_smoothing=3e-8)\n",
        "model6.fit(x_train,y_train)"
      ],
      "metadata": {
        "id": "jMFQcxUBLO1B",
        "colab": {
          "base_uri": "https://localhost:8080/"
        },
        "outputId": "4d1a00bb-7b87-4344-dbfb-6b7aec3e9b89"
      },
      "execution_count": 287,
      "outputs": [
        {
          "output_type": "execute_result",
          "data": {
            "text/plain": [
              "GaussianNB(var_smoothing=3e-08)"
            ]
          },
          "metadata": {},
          "execution_count": 287
        }
      ]
    },
    {
      "cell_type": "code",
      "source": [
        "predictions=model6.predict(x_train)\n",
        "accuracy_score(y_train,predictions)"
      ],
      "metadata": {
        "id": "NUxv5vR0MNUT",
        "colab": {
          "base_uri": "https://localhost:8080/"
        },
        "outputId": "6ba7d153-fa74-44b2-c277-7b49283efe9c"
      },
      "execution_count": 288,
      "outputs": [
        {
          "output_type": "execute_result",
          "data": {
            "text/plain": [
              "0.8005616662766206"
            ]
          },
          "metadata": {},
          "execution_count": 288
        }
      ]
    },
    {
      "cell_type": "code",
      "source": [
        "predictions=model6.predict(x_test)\n",
        "accuracy_score(y_test,predictions)"
      ],
      "metadata": {
        "id": "Qxc4lqvXMQro",
        "colab": {
          "base_uri": "https://localhost:8080/"
        },
        "outputId": "69482357-1319-4c5f-891a-2747a2cc9556"
      },
      "execution_count": 289,
      "outputs": [
        {
          "output_type": "execute_result",
          "data": {
            "text/plain": [
              "0.8163609135155373"
            ]
          },
          "metadata": {},
          "execution_count": 289
        }
      ]
    },
    {
      "cell_type": "code",
      "source": [
        "model7=SVC()\n",
        "model7.fit(x_train,y_train)"
      ],
      "metadata": {
        "id": "e9gLT1aEMUDh",
        "colab": {
          "base_uri": "https://localhost:8080/"
        },
        "outputId": "51902e66-3de3-4dc5-ca9a-270c0888ffa3"
      },
      "execution_count": 290,
      "outputs": [
        {
          "output_type": "execute_result",
          "data": {
            "text/plain": [
              "SVC()"
            ]
          },
          "metadata": {},
          "execution_count": 290
        }
      ]
    },
    {
      "cell_type": "code",
      "source": [
        "predictions=model7.predict(x_train)\n",
        "accuracy_score(y_train,predictions)"
      ],
      "metadata": {
        "id": "Za8QtAMlMYfS",
        "colab": {
          "base_uri": "https://localhost:8080/"
        },
        "outputId": "3804e601-0ea7-45cf-d934-bc9b2785e973"
      },
      "execution_count": 291,
      "outputs": [
        {
          "output_type": "execute_result",
          "data": {
            "text/plain": [
              "0.7852094547156564"
            ]
          },
          "metadata": {},
          "execution_count": 291
        }
      ]
    },
    {
      "cell_type": "code",
      "source": [
        "predictions=model7.predict(x_test)\n",
        "accuracy_score(y_test,predictions)"
      ],
      "metadata": {
        "id": "xzxd0Xz3NoAm",
        "colab": {
          "base_uri": "https://localhost:8080/"
        },
        "outputId": "b01b565e-6c42-463c-ed7e-623d94c314cc"
      },
      "execution_count": 292,
      "outputs": [
        {
          "output_type": "execute_result",
          "data": {
            "text/plain": [
              "0.7968925496068888"
            ]
          },
          "metadata": {},
          "execution_count": 292
        }
      ]
    },
    {
      "cell_type": "code",
      "source": [
        "# Decision Tree Classifiers"
      ],
      "metadata": {
        "id": "YMvTkvmyNrX8"
      },
      "execution_count": 293,
      "outputs": []
    },
    {
      "cell_type": "code",
      "source": [
        "model8=tree.DecisionTreeClassifier(max_depth=6)\n",
        "model8.fit(x_train,y_train)"
      ],
      "metadata": {
        "colab": {
          "base_uri": "https://localhost:8080/"
        },
        "id": "r4NLUJGqg2Uh",
        "outputId": "41e386ec-c5a1-40c7-9894-f7a8c1966acd"
      },
      "execution_count": 294,
      "outputs": [
        {
          "output_type": "execute_result",
          "data": {
            "text/plain": [
              "DecisionTreeClassifier(max_depth=6)"
            ]
          },
          "metadata": {},
          "execution_count": 294
        }
      ]
    },
    {
      "cell_type": "code",
      "source": [
        "predictions=model8.predict(x_train)\n",
        "accuracy_score(y_train,predictions)"
      ],
      "metadata": {
        "colab": {
          "base_uri": "https://localhost:8080/"
        },
        "id": "wOryDQw0hTaq",
        "outputId": "cfa46fc7-ed0b-4fa1-f262-d21a771236bf"
      },
      "execution_count": 295,
      "outputs": [
        {
          "output_type": "execute_result",
          "data": {
            "text/plain": [
              "0.8343552539199626"
            ]
          },
          "metadata": {},
          "execution_count": 295
        }
      ]
    },
    {
      "cell_type": "code",
      "source": [
        "predictions=model8.predict(x_train)\n",
        "accuracy_score(y_train,predictions)"
      ],
      "metadata": {
        "colab": {
          "base_uri": "https://localhost:8080/"
        },
        "id": "PbusebYChZHw",
        "outputId": "828e92c2-3d78-410a-8d35-4a7e406516f7"
      },
      "execution_count": 296,
      "outputs": [
        {
          "output_type": "execute_result",
          "data": {
            "text/plain": [
              "0.8343552539199626"
            ]
          },
          "metadata": {},
          "execution_count": 296
        }
      ]
    },
    {
      "cell_type": "code",
      "source": [
        "# Bagging Classifier"
      ],
      "metadata": {
        "id": "I0r60YIXhbgY"
      },
      "execution_count": 297,
      "outputs": []
    },
    {
      "cell_type": "code",
      "source": [
        "model9=BaggingClassifier(n_estimators = 15,max_features=5)\n",
        "model9.fit(x_train,y_train)"
      ],
      "metadata": {
        "id": "qwsC39Uthr0d",
        "colab": {
          "base_uri": "https://localhost:8080/"
        },
        "outputId": "c0aa82eb-cbde-4d64-8214-710b830c763f"
      },
      "execution_count": 298,
      "outputs": [
        {
          "output_type": "execute_result",
          "data": {
            "text/plain": [
              "BaggingClassifier(max_features=5, n_estimators=15)"
            ]
          },
          "metadata": {},
          "execution_count": 298
        }
      ]
    },
    {
      "cell_type": "code",
      "source": [
        "predictions=model8.predict(x_train)\n",
        "accuracy_score(y_train,predictions)"
      ],
      "metadata": {
        "id": "0pwPu6EbieMj",
        "colab": {
          "base_uri": "https://localhost:8080/"
        },
        "outputId": "f957004e-680c-4721-cfb0-83f978fac389"
      },
      "execution_count": 299,
      "outputs": [
        {
          "output_type": "execute_result",
          "data": {
            "text/plain": [
              "0.8343552539199626"
            ]
          },
          "metadata": {},
          "execution_count": 299
        }
      ]
    },
    {
      "cell_type": "code",
      "source": [
        "predictions=model8.predict(x_test)\n",
        "accuracy_score(y_test,predictions)"
      ],
      "metadata": {
        "id": "2t5RGrhHigNu",
        "colab": {
          "base_uri": "https://localhost:8080/"
        },
        "outputId": "7e14160e-e7de-4466-a154-9ebcb06f9db1"
      },
      "execution_count": 300,
      "outputs": [
        {
          "output_type": "execute_result",
          "data": {
            "text/plain": [
              "0.832272557094721"
            ]
          },
          "metadata": {},
          "execution_count": 300
        }
      ]
    },
    {
      "cell_type": "code",
      "source": [
        "# Adaboost Classifiers"
      ],
      "metadata": {
        "id": "IxuItcK7ihfl"
      },
      "execution_count": 301,
      "outputs": []
    },
    {
      "cell_type": "code",
      "source": [
        "model10=AdaBoostClassifier(n_estimators=75)\n",
        "model10.fit(x_train,y_train)"
      ],
      "metadata": {
        "id": "5rn1Zg0Mi4Le",
        "colab": {
          "base_uri": "https://localhost:8080/"
        },
        "outputId": "d7a19e9b-452d-4ca0-e606-92b53bb73f10"
      },
      "execution_count": 302,
      "outputs": [
        {
          "output_type": "execute_result",
          "data": {
            "text/plain": [
              "AdaBoostClassifier(n_estimators=75)"
            ]
          },
          "metadata": {},
          "execution_count": 302
        }
      ]
    },
    {
      "cell_type": "code",
      "source": [
        "predictions=model10.predict(x_train)\n",
        "accuracy_score(y_train,predictions)"
      ],
      "metadata": {
        "colab": {
          "base_uri": "https://localhost:8080/"
        },
        "id": "BytxjNq2klOO",
        "outputId": "08bc071e-a07a-434c-bb42-276e4fe4b047"
      },
      "execution_count": 303,
      "outputs": [
        {
          "output_type": "execute_result",
          "data": {
            "text/plain": [
              "0.8332319213667213"
            ]
          },
          "metadata": {},
          "execution_count": 303
        }
      ]
    },
    {
      "cell_type": "code",
      "source": [
        "predictions=model10.predict(x_test)\n",
        "accuracy_score(y_test,predictions)"
      ],
      "metadata": {
        "colab": {
          "base_uri": "https://localhost:8080/"
        },
        "id": "tSdzo4Ysk09N",
        "outputId": "05bee6f8-246a-4d41-b4b5-7e2e693c4a3a"
      },
      "execution_count": 304,
      "outputs": [
        {
          "output_type": "execute_result",
          "data": {
            "text/plain": [
              "0.8408835642081617"
            ]
          },
          "metadata": {},
          "execution_count": 304
        }
      ]
    },
    {
      "cell_type": "code",
      "source": [
        "# Gradient boost Classifiers"
      ],
      "metadata": {
        "id": "8lk-7wFrk5EJ"
      },
      "execution_count": 305,
      "outputs": []
    },
    {
      "cell_type": "code",
      "source": [
        "model11=GradientBoostingClassifier(n_estimators=250,max_depth=4)\n",
        "model11.fit(x_train,y_train)"
      ],
      "metadata": {
        "colab": {
          "base_uri": "https://localhost:8080/"
        },
        "id": "Hg80bfD-li2O",
        "outputId": "2652f5fc-1cec-4274-a807-3c3944b8d8fb"
      },
      "execution_count": 306,
      "outputs": [
        {
          "output_type": "execute_result",
          "data": {
            "text/plain": [
              "GradientBoostingClassifier(max_depth=4, n_estimators=250)"
            ]
          },
          "metadata": {},
          "execution_count": 306
        }
      ]
    },
    {
      "cell_type": "code",
      "source": [
        "predictions=model11.predict(x_train)\n",
        "accuracy_score(y_train,predictions)"
      ],
      "metadata": {
        "colab": {
          "base_uri": "https://localhost:8080/"
        },
        "id": "8qxEY-QfltCe",
        "outputId": "1e67cdfa-0aac-45f0-d1bc-8fc1394c09fe"
      },
      "execution_count": 307,
      "outputs": [
        {
          "output_type": "execute_result",
          "data": {
            "text/plain": [
              "0.8630002340276153"
            ]
          },
          "metadata": {},
          "execution_count": 307
        }
      ]
    },
    {
      "cell_type": "code",
      "source": [
        "predictions=model11.predict(x_test)\n",
        "accuracy_score(y_test,predictions)"
      ],
      "metadata": {
        "colab": {
          "base_uri": "https://localhost:8080/"
        },
        "id": "4FJfG7TWlvm5",
        "outputId": "8a20d4c9-53e7-46a4-ed52-c4be768eb786"
      },
      "execution_count": 308,
      "outputs": [
        {
          "output_type": "execute_result",
          "data": {
            "text/plain": [
              "0.8429427180831149"
            ]
          },
          "metadata": {},
          "execution_count": 308
        }
      ]
    },
    {
      "cell_type": "code",
      "source": [
        "# Random Forest Classifier"
      ],
      "metadata": {
        "id": "VRzqA7EilxHU"
      },
      "execution_count": 309,
      "outputs": []
    },
    {
      "cell_type": "code",
      "source": [
        "model12=RandomForestClassifier(max_depth=8)\n",
        "model12.fit(x_train,y_train)"
      ],
      "metadata": {
        "colab": {
          "base_uri": "https://localhost:8080/"
        },
        "id": "gW3WoZwdmvbH",
        "outputId": "ae1f6ea7-35a0-4eb8-8905-77e5533a2a1c"
      },
      "execution_count": 310,
      "outputs": [
        {
          "output_type": "execute_result",
          "data": {
            "text/plain": [
              "RandomForestClassifier(max_depth=8)"
            ]
          },
          "metadata": {},
          "execution_count": 310
        }
      ]
    },
    {
      "cell_type": "code",
      "source": [
        "predictions=model12.predict(x_train)\n",
        "accuracy_score(y_train,predictions)"
      ],
      "metadata": {
        "colab": {
          "base_uri": "https://localhost:8080/"
        },
        "id": "Rf9UydL2nGnK",
        "outputId": "72ceb4e9-bb69-4175-c5d9-6bba826027d9"
      },
      "execution_count": 311,
      "outputs": [
        {
          "output_type": "execute_result",
          "data": {
            "text/plain": [
              "0.8440908027147204"
            ]
          },
          "metadata": {},
          "execution_count": 311
        }
      ]
    },
    {
      "cell_type": "code",
      "source": [
        "predictions=model12.predict(x_test)\n",
        "accuracy_score(y_test,predictions)"
      ],
      "metadata": {
        "colab": {
          "base_uri": "https://localhost:8080/"
        },
        "id": "ZBxb80A3nK9H",
        "outputId": "803de95e-fcbc-4d90-de6f-2b20270a96fb"
      },
      "execution_count": 312,
      "outputs": [
        {
          "output_type": "execute_result",
          "data": {
            "text/plain": [
              "0.8367652564582553"
            ]
          },
          "metadata": {},
          "execution_count": 312
        }
      ]
    }
  ],
  "metadata": {
    "colab": {
      "provenance": []
    },
    "kernelspec": {
      "display_name": "Python 3",
      "name": "python3"
    },
    "language_info": {
      "name": "python"
    }
  },
  "nbformat": 4,
  "nbformat_minor": 0
}